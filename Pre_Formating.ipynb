{
  "nbformat": 4,
  "nbformat_minor": 0,
  "metadata": {
    "colab": {
      "name": "Pre-Formating",
      "provenance": [],
      "collapsed_sections": [],
      "authorship_tag": "ABX9TyNSgcYRcqTsQeW3xeQQyhzh",
      "include_colab_link": true
    },
    "kernelspec": {
      "name": "python3",
      "display_name": "Python 3"
    },
    "language_info": {
      "name": "python"
    }
  },
  "cells": [
    {
      "cell_type": "markdown",
      "metadata": {
        "id": "view-in-github",
        "colab_type": "text"
      },
      "source": [
        "<a href=\"https://colab.research.google.com/github/JuanBarros2/tcc_andromedev/blob/main/Pre_Formating.ipynb\" target=\"_parent\"><img src=\"https://colab.research.google.com/assets/colab-badge.svg\" alt=\"Open In Colab\"/></a>"
      ]
    },
    {
      "cell_type": "code",
      "metadata": {
        "colab": {
          "base_uri": "https://localhost:8080/"
        },
        "id": "AHAUVhRtjyD3",
        "outputId": "6b20fd6b-c8c5-4a11-854c-a123477f1e79"
      },
      "source": [
        "import os \n",
        "import pandas as pd\n",
        "import numpy as np\n",
        "import random\n",
        "import re\n",
        "import time\n",
        "\n",
        "from google.colab import drive\n",
        "drive.mount('/content/drive')\n",
        "\n",
        "path =  'drive/MyDrive/TCC_DATA/data/'"
      ],
      "execution_count": null,
      "outputs": [
        {
          "output_type": "stream",
          "text": [
            "Mounted at /content/drive\n"
          ],
          "name": "stdout"
        }
      ]
    },
    {
      "cell_type": "code",
      "metadata": {
        "id": "cTS0ZP4Xj5TT"
      },
      "source": [
        "inscritos = pd.read_csv(path + \"Inscritos.csv\")\n",
        "mentoria = pd.read_csv(path + \"Mentoria.csv\")\n",
        "organizacoes = pd.read_csv(path + \"Organizacoes.csv\")\n",
        "interessados = pd.read_csv(path + \"InteressadosPrevios.csv\")\n",
        "overview = pd.read_csv(path + \"Overview.csv\")\n",
        "\n",
        "ep1 = pd.read_csv(path + \"EP1.csv\")\n",
        "ep2 = pd.read_csv(path + \"EP2.csv\")\n",
        "\n",
        "ef_mentoria = pd.read_csv(path + \"EF_Mentoria.csv\")\n",
        "ef_aprendiz = pd.read_csv(path + \"EF_Aprendiz.csv\")\n",
        "\n",
        "fs_aprendiz = pd.read_csv(path + \"FS_Aprendiz.csv\")\n",
        "fs_mentoria = pd.read_csv(path + \"FS_Mentoria.csv\")"
      ],
      "execution_count": null,
      "outputs": []
    },
    {
      "cell_type": "code",
      "metadata": {
        "id": "uTxi2gkJj5Qw"
      },
      "source": [
        "def blank_id_df(df, fields, rename_id, remove_fields):\n",
        "    random_id_df = list(range(0, df.shape[0]))\n",
        "    random.shuffle(random_id_df)\n",
        "    df[rename_id] = random_id_df\n",
        "    result = df[[*fields, rename_id]]\n",
        "    df = df.drop(columns=[*remove_fields, *fields]).sort_values(rename_id)\n",
        "    \n",
        "    return (df, result)\n",
        "\n",
        "def replace_column(df, relationship, rename_column, remove_column, id_label):\n",
        "    update_relationship = relationship.rename({ rename_column[0]: rename_column[1]}, axis = 1).drop(columns=remove_column)\n",
        "    \n",
        "    result = df.merge(update_relationship, on=[rename_column[1]], how='left').drop(columns=rename_column[1])\n",
        "    result = result.rename({ id_label: rename_column[1]}, axis = 1)\n",
        "    \n",
        "    return result"
      ],
      "execution_count": null,
      "outputs": []
    },
    {
      "cell_type": "code",
      "metadata": {
        "id": "-BtB6fkbj5NX"
      },
      "source": [
        "inscritos, ids_inscritos = blank_id_df(inscritos, ['email', 'nome'], 'id_inscrito', ['discord_id','github_link'])\n",
        "mentoria, ids_mentorias = blank_id_df(mentoria,  ['email', 'nome'], 'id_mentoria', ['discord_id'])\n",
        "organizacoes, ids_organizacoes = blank_id_df(organizacoes, ['nome'], 'id_organizacao', ['email']) \n",
        "_, ids_projetos = blank_id_df(overview, ['projeto'], 'id_projeto', []) "
      ],
      "execution_count": null,
      "outputs": []
    },
    {
      "cell_type": "code",
      "metadata": {
        "id": "bZq9F68uj5Dp",
        "colab": {
          "base_uri": "https://localhost:8080/"
        },
        "outputId": "56181441-43e4-4a82-8df8-036148447f25"
      },
      "source": [
        "overviewPRE = replace_column(overview, ids_inscritos, ('nome', 'aprendiz'), ['email'], 'id_inscrito')\n",
        "overviewPRE = replace_column(overviewPRE, ids_mentorias, ('nome', 'mentor_principal'), ['email'], 'id_mentoria')\n",
        "overviewPRE = replace_column(overviewPRE, ids_mentorias, ('nome', 'mentor_auxiliar'), ['email'], 'id_mentoria')\n",
        "overviewPRE = overviewPRE.drop(columns=['projeto', 'organizacao'])\n",
        "overviewPRE[overviewPRE['mentor_principal'].notna()].shape"
      ],
      "execution_count": null,
      "outputs": [
        {
          "output_type": "execute_result",
          "data": {
            "text/plain": [
              "(50, 10)"
            ]
          },
          "metadata": {
            "tags": []
          },
          "execution_count": 5
        }
      ]
    },
    {
      "cell_type": "code",
      "metadata": {
        "id": "KIz6glgLj5Ae"
      },
      "source": [
        "interessadosPRE = interessados.merge(ids_inscritos, on=['email'], how='left' )\n",
        "interessadosPRE = interessadosPRE.drop(columns=['email', 'nome'])\n"
      ],
      "execution_count": null,
      "outputs": []
    },
    {
      "cell_type": "code",
      "metadata": {
        "id": "ncZBTqLkj487"
      },
      "source": [
        "ep1PRE = ep1.merge(ids_projetos, on=['projeto'], how='right' )\n",
        "ep1PRE = ep1PRE.drop(columns=[\"email\", \"projeto\"])\n",
        "ep1PRE = ep1PRE.rename({ 'id_projeto':  'projeto' }, axis = 1)\n",
        "ep1PRE = ep1PRE.drop_duplicates(subset=['projeto'], keep='last') \n",
        "\n",
        "ep2PRE = ep2.merge(ids_projetos, on=['projeto'], how='right')\n",
        "ep2PRE = ep2PRE.drop(columns=[\"email\", \"projeto\"])\n",
        "ep2PRE = ep2PRE.rename({ 'id_projeto':  'projeto' }, axis = 1)\n",
        "ep2PRE = ep2PRE.drop_duplicates(subset=['projeto'], keep='last') "
      ],
      "execution_count": null,
      "outputs": []
    },
    {
      "cell_type": "code",
      "metadata": {
        "colab": {
          "base_uri": "https://localhost:8080/",
          "height": 48
        },
        "id": "bTzLYNj35N_Y",
        "outputId": "f685a2be-931b-4658-c22b-f39c0582658a"
      },
      "source": [
        "ep1PRE[ep1PRE['projeto'].isna()]"
      ],
      "execution_count": null,
      "outputs": [
        {
          "output_type": "execute_result",
          "data": {
            "text/html": [
              "<div>\n",
              "<style scoped>\n",
              "    .dataframe tbody tr th:only-of-type {\n",
              "        vertical-align: middle;\n",
              "    }\n",
              "\n",
              "    .dataframe tbody tr th {\n",
              "        vertical-align: top;\n",
              "    }\n",
              "\n",
              "    .dataframe thead th {\n",
              "        text-align: right;\n",
              "    }\n",
              "</style>\n",
              "<table border=\"1\" class=\"dataframe\">\n",
              "  <thead>\n",
              "    <tr style=\"text-align: right;\">\n",
              "      <th></th>\n",
              "      <th>data</th>\n",
              "      <th>Q1</th>\n",
              "      <th>Q2</th>\n",
              "      <th>Q3</th>\n",
              "      <th>projeto</th>\n",
              "    </tr>\n",
              "  </thead>\n",
              "  <tbody>\n",
              "  </tbody>\n",
              "</table>\n",
              "</div>"
            ],
            "text/plain": [
              "Empty DataFrame\n",
              "Columns: [data, Q1, Q2, Q3, projeto]\n",
              "Index: []"
            ]
          },
          "metadata": {
            "tags": []
          },
          "execution_count": 8
        }
      ]
    },
    {
      "cell_type": "code",
      "metadata": {
        "id": "sOq-N1--8zYS"
      },
      "source": [
        "ep2PRE.groupby('projeto').size()"
      ],
      "execution_count": null,
      "outputs": []
    },
    {
      "cell_type": "code",
      "metadata": {
        "id": "pt25PTiYj45g",
        "colab": {
          "base_uri": "https://localhost:8080/"
        },
        "outputId": "eac46503-9451-4c8c-cec4-8bc7a249c8dc"
      },
      "source": [
        "ef_aprendiz['projeto'] = ef_aprendiz['projeto'].map(lambda projeto: re.sub(r\"\\[.*\\] \", \"\", projeto))\n",
        "ef_aprendizPRE = ef_aprendiz.drop_duplicates(subset=['projeto'],keep='last')\n",
        "ef_aprendizPRE = ef_aprendizPRE.merge(ids_projetos, on=['projeto'], how='right')\n",
        "ef_aprendizPRE = ef_aprendizPRE.drop(columns=[\"email\", \"projeto\"])\n",
        "ef_aprendizPRE = ef_aprendizPRE.rename({ 'id_projeto':  'projeto'}, axis = 1)\n",
        "ef_aprendizPRE = ef_aprendizPRE.drop(columns=[\"Q8\"])\n",
        "\n",
        "ef_mentoria['projeto'] = ef_mentoria['projeto'].map(lambda projeto: re.sub(r\"\\[.*\\] \", \"\", projeto))\n",
        "ef_mentoriaPRE = ef_mentoria.drop_duplicates(subset=['projeto'],keep='last')\n",
        "ef_mentoriaPRE = ef_mentoriaPRE.merge(ids_projetos, on=['projeto'], how='right')\n",
        "ef_mentoriaPRE = ef_mentoriaPRE.drop(columns=[\"email\", \"projeto\"])\n",
        "ef_mentoriaPRE = ef_mentoriaPRE.rename({ 'id_projeto':  'projeto' }, axis = 1)\n",
        "ef_mentoriaPRE.shape"
      ],
      "execution_count": null,
      "outputs": [
        {
          "output_type": "execute_result",
          "data": {
            "text/plain": [
              "(50, 14)"
            ]
          },
          "metadata": {
            "tags": []
          },
          "execution_count": 10
        }
      ]
    },
    {
      "cell_type": "code",
      "metadata": {
        "colab": {
          "base_uri": "https://localhost:8080/"
        },
        "id": "c9tzW1Zg6CBn",
        "outputId": "85b663ac-c1be-4408-f114-f2a4b9e2e069"
      },
      "source": [
        "ef_aprendizPRE[ef_aprendizPRE['data'].notna()].shape"
      ],
      "execution_count": null,
      "outputs": [
        {
          "output_type": "execute_result",
          "data": {
            "text/plain": [
              "(41, 18)"
            ]
          },
          "metadata": {
            "tags": []
          },
          "execution_count": 11
        }
      ]
    },
    {
      "cell_type": "code",
      "metadata": {
        "id": "ZHnDWAJxj4sO"
      },
      "source": [
        "aprendizes = overviewPRE[[\"id_projeto\",\"aprendiz\"]]\n",
        "aprendizes = aprendizes.rename(columns={'aprendiz': 'id_inscrito'})"
      ],
      "execution_count": null,
      "outputs": []
    },
    {
      "cell_type": "code",
      "metadata": {
        "id": "90jTfh7mj41v"
      },
      "source": [
        "fs_aprendizPRE = fs_aprendiz.merge(ids_inscritos, on=['email'])\n",
        "fs_aprendizPRE = fs_aprendizPRE.drop(columns=[\"email\", \"projeto\", \"nome\"])\n",
        "fs_aprendizPRE = fs_aprendizPRE.drop_duplicates(subset=['id_inscrito', 'semana'],keep='last') \n"
      ],
      "execution_count": null,
      "outputs": []
    },
    {
      "cell_type": "code",
      "metadata": {
        "id": "b3HfQiKTpIx-",
        "colab": {
          "base_uri": "https://localhost:8080/",
          "height": 1000
        },
        "outputId": "3a7c22a0-cf14-4cc6-a95c-9cf3e03e6b41"
      },
      "source": [
        "semanas = list(dict.fromkeys(fs_aprendizPRE['semana']) )\n",
        "def apply_atraso(row):\n",
        "  data_limite = ['27/09/2020', '04/10/2020', '11/10/2020', '18/10/2020', '25/10/2020', '01/11/2020', '08/11/2020', '15/11/2020']\n",
        "  semana = semanas.index(row['semana'])\n",
        "  data = time.strptime(row['data'][:10] if type(row['data']) is str else '16/11/2020', \"%d/%m/%Y\")\n",
        "  row['atraso'] = (data > time.strptime(data_limite[semana], \"%d/%m/%Y\") )\n",
        "  return row\n",
        "\n",
        "fs_aprendizPRE = fs_aprendizPRE.apply(apply_atraso, axis=1)\n",
        "\n",
        "aux = pd.DataFrame(index = pd.MultiIndex.from_product([aprendizes['id_inscrito'], semanas], names = [\"id_inscrito\", \"semana\"])).reset_index()\n",
        "fs_aprendizPRE = fs_aprendizPRE.merge(aux, on=['semana', 'id_inscrito'], how=\"right\")\n",
        "fs_aprendizPRE.groupby('id_inscrito').size().reset_index(name='count')\n",
        "\n"
      ],
      "execution_count": null,
      "outputs": [
        {
          "output_type": "execute_result",
          "data": {
            "text/html": [
              "<div>\n",
              "<style scoped>\n",
              "    .dataframe tbody tr th:only-of-type {\n",
              "        vertical-align: middle;\n",
              "    }\n",
              "\n",
              "    .dataframe tbody tr th {\n",
              "        vertical-align: top;\n",
              "    }\n",
              "\n",
              "    .dataframe thead th {\n",
              "        text-align: right;\n",
              "    }\n",
              "</style>\n",
              "<table border=\"1\" class=\"dataframe\">\n",
              "  <thead>\n",
              "    <tr style=\"text-align: right;\">\n",
              "      <th></th>\n",
              "      <th>id_inscrito</th>\n",
              "      <th>count</th>\n",
              "    </tr>\n",
              "  </thead>\n",
              "  <tbody>\n",
              "    <tr>\n",
              "      <th>0</th>\n",
              "      <td>3</td>\n",
              "      <td>8</td>\n",
              "    </tr>\n",
              "    <tr>\n",
              "      <th>1</th>\n",
              "      <td>5</td>\n",
              "      <td>8</td>\n",
              "    </tr>\n",
              "    <tr>\n",
              "      <th>2</th>\n",
              "      <td>11</td>\n",
              "      <td>8</td>\n",
              "    </tr>\n",
              "    <tr>\n",
              "      <th>3</th>\n",
              "      <td>17</td>\n",
              "      <td>8</td>\n",
              "    </tr>\n",
              "    <tr>\n",
              "      <th>4</th>\n",
              "      <td>19</td>\n",
              "      <td>8</td>\n",
              "    </tr>\n",
              "    <tr>\n",
              "      <th>5</th>\n",
              "      <td>22</td>\n",
              "      <td>8</td>\n",
              "    </tr>\n",
              "    <tr>\n",
              "      <th>6</th>\n",
              "      <td>23</td>\n",
              "      <td>8</td>\n",
              "    </tr>\n",
              "    <tr>\n",
              "      <th>7</th>\n",
              "      <td>26</td>\n",
              "      <td>8</td>\n",
              "    </tr>\n",
              "    <tr>\n",
              "      <th>8</th>\n",
              "      <td>30</td>\n",
              "      <td>8</td>\n",
              "    </tr>\n",
              "    <tr>\n",
              "      <th>9</th>\n",
              "      <td>34</td>\n",
              "      <td>8</td>\n",
              "    </tr>\n",
              "    <tr>\n",
              "      <th>10</th>\n",
              "      <td>44</td>\n",
              "      <td>8</td>\n",
              "    </tr>\n",
              "    <tr>\n",
              "      <th>11</th>\n",
              "      <td>48</td>\n",
              "      <td>8</td>\n",
              "    </tr>\n",
              "    <tr>\n",
              "      <th>12</th>\n",
              "      <td>50</td>\n",
              "      <td>8</td>\n",
              "    </tr>\n",
              "    <tr>\n",
              "      <th>13</th>\n",
              "      <td>51</td>\n",
              "      <td>8</td>\n",
              "    </tr>\n",
              "    <tr>\n",
              "      <th>14</th>\n",
              "      <td>52</td>\n",
              "      <td>8</td>\n",
              "    </tr>\n",
              "    <tr>\n",
              "      <th>15</th>\n",
              "      <td>54</td>\n",
              "      <td>8</td>\n",
              "    </tr>\n",
              "    <tr>\n",
              "      <th>16</th>\n",
              "      <td>55</td>\n",
              "      <td>8</td>\n",
              "    </tr>\n",
              "    <tr>\n",
              "      <th>17</th>\n",
              "      <td>57</td>\n",
              "      <td>8</td>\n",
              "    </tr>\n",
              "    <tr>\n",
              "      <th>18</th>\n",
              "      <td>59</td>\n",
              "      <td>8</td>\n",
              "    </tr>\n",
              "    <tr>\n",
              "      <th>19</th>\n",
              "      <td>61</td>\n",
              "      <td>8</td>\n",
              "    </tr>\n",
              "    <tr>\n",
              "      <th>20</th>\n",
              "      <td>65</td>\n",
              "      <td>8</td>\n",
              "    </tr>\n",
              "    <tr>\n",
              "      <th>21</th>\n",
              "      <td>66</td>\n",
              "      <td>8</td>\n",
              "    </tr>\n",
              "    <tr>\n",
              "      <th>22</th>\n",
              "      <td>67</td>\n",
              "      <td>8</td>\n",
              "    </tr>\n",
              "    <tr>\n",
              "      <th>23</th>\n",
              "      <td>71</td>\n",
              "      <td>8</td>\n",
              "    </tr>\n",
              "    <tr>\n",
              "      <th>24</th>\n",
              "      <td>72</td>\n",
              "      <td>8</td>\n",
              "    </tr>\n",
              "    <tr>\n",
              "      <th>25</th>\n",
              "      <td>73</td>\n",
              "      <td>8</td>\n",
              "    </tr>\n",
              "    <tr>\n",
              "      <th>26</th>\n",
              "      <td>74</td>\n",
              "      <td>8</td>\n",
              "    </tr>\n",
              "    <tr>\n",
              "      <th>27</th>\n",
              "      <td>75</td>\n",
              "      <td>8</td>\n",
              "    </tr>\n",
              "    <tr>\n",
              "      <th>28</th>\n",
              "      <td>76</td>\n",
              "      <td>8</td>\n",
              "    </tr>\n",
              "    <tr>\n",
              "      <th>29</th>\n",
              "      <td>80</td>\n",
              "      <td>8</td>\n",
              "    </tr>\n",
              "    <tr>\n",
              "      <th>30</th>\n",
              "      <td>82</td>\n",
              "      <td>8</td>\n",
              "    </tr>\n",
              "    <tr>\n",
              "      <th>31</th>\n",
              "      <td>83</td>\n",
              "      <td>8</td>\n",
              "    </tr>\n",
              "    <tr>\n",
              "      <th>32</th>\n",
              "      <td>88</td>\n",
              "      <td>8</td>\n",
              "    </tr>\n",
              "    <tr>\n",
              "      <th>33</th>\n",
              "      <td>91</td>\n",
              "      <td>8</td>\n",
              "    </tr>\n",
              "    <tr>\n",
              "      <th>34</th>\n",
              "      <td>98</td>\n",
              "      <td>8</td>\n",
              "    </tr>\n",
              "    <tr>\n",
              "      <th>35</th>\n",
              "      <td>100</td>\n",
              "      <td>8</td>\n",
              "    </tr>\n",
              "    <tr>\n",
              "      <th>36</th>\n",
              "      <td>101</td>\n",
              "      <td>8</td>\n",
              "    </tr>\n",
              "    <tr>\n",
              "      <th>37</th>\n",
              "      <td>109</td>\n",
              "      <td>8</td>\n",
              "    </tr>\n",
              "    <tr>\n",
              "      <th>38</th>\n",
              "      <td>110</td>\n",
              "      <td>8</td>\n",
              "    </tr>\n",
              "    <tr>\n",
              "      <th>39</th>\n",
              "      <td>116</td>\n",
              "      <td>8</td>\n",
              "    </tr>\n",
              "    <tr>\n",
              "      <th>40</th>\n",
              "      <td>117</td>\n",
              "      <td>8</td>\n",
              "    </tr>\n",
              "    <tr>\n",
              "      <th>41</th>\n",
              "      <td>119</td>\n",
              "      <td>8</td>\n",
              "    </tr>\n",
              "    <tr>\n",
              "      <th>42</th>\n",
              "      <td>126</td>\n",
              "      <td>8</td>\n",
              "    </tr>\n",
              "    <tr>\n",
              "      <th>43</th>\n",
              "      <td>127</td>\n",
              "      <td>8</td>\n",
              "    </tr>\n",
              "    <tr>\n",
              "      <th>44</th>\n",
              "      <td>131</td>\n",
              "      <td>8</td>\n",
              "    </tr>\n",
              "    <tr>\n",
              "      <th>45</th>\n",
              "      <td>135</td>\n",
              "      <td>8</td>\n",
              "    </tr>\n",
              "    <tr>\n",
              "      <th>46</th>\n",
              "      <td>136</td>\n",
              "      <td>8</td>\n",
              "    </tr>\n",
              "    <tr>\n",
              "      <th>47</th>\n",
              "      <td>137</td>\n",
              "      <td>8</td>\n",
              "    </tr>\n",
              "    <tr>\n",
              "      <th>48</th>\n",
              "      <td>138</td>\n",
              "      <td>8</td>\n",
              "    </tr>\n",
              "    <tr>\n",
              "      <th>49</th>\n",
              "      <td>144</td>\n",
              "      <td>8</td>\n",
              "    </tr>\n",
              "  </tbody>\n",
              "</table>\n",
              "</div>"
            ],
            "text/plain": [
              "    id_inscrito  count\n",
              "0             3      8\n",
              "1             5      8\n",
              "2            11      8\n",
              "3            17      8\n",
              "4            19      8\n",
              "5            22      8\n",
              "6            23      8\n",
              "7            26      8\n",
              "8            30      8\n",
              "9            34      8\n",
              "10           44      8\n",
              "11           48      8\n",
              "12           50      8\n",
              "13           51      8\n",
              "14           52      8\n",
              "15           54      8\n",
              "16           55      8\n",
              "17           57      8\n",
              "18           59      8\n",
              "19           61      8\n",
              "20           65      8\n",
              "21           66      8\n",
              "22           67      8\n",
              "23           71      8\n",
              "24           72      8\n",
              "25           73      8\n",
              "26           74      8\n",
              "27           75      8\n",
              "28           76      8\n",
              "29           80      8\n",
              "30           82      8\n",
              "31           83      8\n",
              "32           88      8\n",
              "33           91      8\n",
              "34           98      8\n",
              "35          100      8\n",
              "36          101      8\n",
              "37          109      8\n",
              "38          110      8\n",
              "39          116      8\n",
              "40          117      8\n",
              "41          119      8\n",
              "42          126      8\n",
              "43          127      8\n",
              "44          131      8\n",
              "45          135      8\n",
              "46          136      8\n",
              "47          137      8\n",
              "48          138      8\n",
              "49          144      8"
            ]
          },
          "metadata": {
            "tags": []
          },
          "execution_count": 14
        }
      ]
    },
    {
      "cell_type": "code",
      "metadata": {
        "colab": {
          "base_uri": "https://localhost:8080/",
          "height": 78
        },
        "id": "pmH2J-A-8EzT",
        "outputId": "b68aa601-b835-498a-eba3-8971a830e64b"
      },
      "source": [
        "overviewPRE[overviewPRE['aprendiz'] ==73]\n"
      ],
      "execution_count": null,
      "outputs": [
        {
          "output_type": "execute_result",
          "data": {
            "text/html": [
              "<div>\n",
              "<style scoped>\n",
              "    .dataframe tbody tr th:only-of-type {\n",
              "        vertical-align: middle;\n",
              "    }\n",
              "\n",
              "    .dataframe tbody tr th {\n",
              "        vertical-align: top;\n",
              "    }\n",
              "\n",
              "    .dataframe thead th {\n",
              "        text-align: right;\n",
              "    }\n",
              "</style>\n",
              "<table border=\"1\" class=\"dataframe\">\n",
              "  <thead>\n",
              "    <tr style=\"text-align: right;\">\n",
              "      <th></th>\n",
              "      <th>FS</th>\n",
              "      <th>EP1</th>\n",
              "      <th>EP2</th>\n",
              "      <th>EF</th>\n",
              "      <th>apresentacao</th>\n",
              "      <th>areas</th>\n",
              "      <th>id_projeto</th>\n",
              "      <th>aprendiz</th>\n",
              "      <th>mentor_principal</th>\n",
              "      <th>mentor_auxiliar</th>\n",
              "    </tr>\n",
              "  </thead>\n",
              "  <tbody>\n",
              "    <tr>\n",
              "      <th>28</th>\n",
              "      <td>True</td>\n",
              "      <td>True</td>\n",
              "      <td>True</td>\n",
              "      <td>True</td>\n",
              "      <td>True</td>\n",
              "      <td>Implementação de features</td>\n",
              "      <td>20</td>\n",
              "      <td>73</td>\n",
              "      <td>54</td>\n",
              "      <td>10</td>\n",
              "    </tr>\n",
              "  </tbody>\n",
              "</table>\n",
              "</div>"
            ],
            "text/plain": [
              "      FS   EP1   EP2  ...  aprendiz  mentor_principal mentor_auxiliar\n",
              "28  True  True  True  ...        73                54              10\n",
              "\n",
              "[1 rows x 10 columns]"
            ]
          },
          "metadata": {
            "tags": []
          },
          "execution_count": 15
        }
      ]
    },
    {
      "cell_type": "code",
      "metadata": {
        "colab": {
          "base_uri": "https://localhost:8080/",
          "height": 78
        },
        "id": "38ui4goQ70oA",
        "outputId": "392e3ed7-024e-40ac-dd3a-0e73bf405cbf"
      },
      "source": [
        "\n",
        "ids_inscritos[ids_inscritos['id_inscrito'] ==73]"
      ],
      "execution_count": null,
      "outputs": [
        {
          "output_type": "execute_result",
          "data": {
            "text/html": [
              "<div>\n",
              "<style scoped>\n",
              "    .dataframe tbody tr th:only-of-type {\n",
              "        vertical-align: middle;\n",
              "    }\n",
              "\n",
              "    .dataframe tbody tr th {\n",
              "        vertical-align: top;\n",
              "    }\n",
              "\n",
              "    .dataframe thead th {\n",
              "        text-align: right;\n",
              "    }\n",
              "</style>\n",
              "<table border=\"1\" class=\"dataframe\">\n",
              "  <thead>\n",
              "    <tr style=\"text-align: right;\">\n",
              "      <th></th>\n",
              "      <th>email</th>\n",
              "      <th>nome</th>\n",
              "      <th>id_inscrito</th>\n",
              "    </tr>\n",
              "  </thead>\n",
              "  <tbody>\n",
              "    <tr>\n",
              "      <th>26</th>\n",
              "      <td>dacio.bezerra@ccc.ufcg.edu.br</td>\n",
              "      <td>Dacio Silva Bezerra</td>\n",
              "      <td>73</td>\n",
              "    </tr>\n",
              "  </tbody>\n",
              "</table>\n",
              "</div>"
            ],
            "text/plain": [
              "                            email                 nome  id_inscrito\n",
              "26  dacio.bezerra@ccc.ufcg.edu.br  Dacio Silva Bezerra           73"
            ]
          },
          "metadata": {
            "tags": []
          },
          "execution_count": 16
        }
      ]
    },
    {
      "cell_type": "code",
      "metadata": {
        "id": "Hk3-Fmokj4pB",
        "colab": {
          "base_uri": "https://localhost:8080/",
          "height": 48
        },
        "outputId": "6b529014-c751-4918-bab7-1387befd4198"
      },
      "source": [
        "fs_mentoriaPRE = fs_mentoria.merge(ids_mentorias, on=['email'], how='left')\n",
        "fs_mentoriaPRE = fs_mentoriaPRE.drop(columns=[\"email\", \"nome\"])\n",
        "fs_mentoriaPRE = fs_mentoriaPRE.merge(ids_projetos, on=['projeto'], how='left')\n",
        "fs_mentoriaPRE = fs_mentoriaPRE.drop_duplicates(subset=['id_projeto', 'semana'],keep='last') \n",
        "fs_mentoriaPRE = fs_mentoriaPRE.apply(apply_atraso, axis=1)\n",
        "\n",
        "aux = pd.DataFrame(index = pd.MultiIndex.from_product([ids_projetos['id_projeto'], semanas], names = [\"id_projeto\", \"semana\"])).reset_index()\n",
        "fs_mentoriaPRE = fs_mentoriaPRE.merge(aux, on=['semana', 'id_projeto'], how=\"right\")\n",
        "fs_mentoriaPRE[fs_mentoriaPRE['id_projeto'].isna()]"
      ],
      "execution_count": null,
      "outputs": [
        {
          "output_type": "execute_result",
          "data": {
            "text/html": [
              "<div>\n",
              "<style scoped>\n",
              "    .dataframe tbody tr th:only-of-type {\n",
              "        vertical-align: middle;\n",
              "    }\n",
              "\n",
              "    .dataframe tbody tr th {\n",
              "        vertical-align: top;\n",
              "    }\n",
              "\n",
              "    .dataframe thead th {\n",
              "        text-align: right;\n",
              "    }\n",
              "</style>\n",
              "<table border=\"1\" class=\"dataframe\">\n",
              "  <thead>\n",
              "    <tr style=\"text-align: right;\">\n",
              "      <th></th>\n",
              "      <th>data</th>\n",
              "      <th>semana</th>\n",
              "      <th>projeto</th>\n",
              "      <th>Q1</th>\n",
              "      <th>Q2</th>\n",
              "      <th>Q3</th>\n",
              "      <th>Q4</th>\n",
              "      <th>Q5</th>\n",
              "      <th>id_mentoria</th>\n",
              "      <th>id_projeto</th>\n",
              "      <th>atraso</th>\n",
              "    </tr>\n",
              "  </thead>\n",
              "  <tbody>\n",
              "  </tbody>\n",
              "</table>\n",
              "</div>"
            ],
            "text/plain": [
              "Empty DataFrame\n",
              "Columns: [data, semana, projeto, Q1, Q2, Q3, Q4, Q5, id_mentoria, id_projeto, atraso]\n",
              "Index: []"
            ]
          },
          "metadata": {
            "tags": []
          },
          "execution_count": 17
        }
      ]
    },
    {
      "cell_type": "code",
      "metadata": {
        "id": "hAOxYg2FQfpG"
      },
      "source": [
        "areasPRE = overviewPRE.assign(areas=overviewPRE.areas.str.split(\", \")).explode('areas')\n",
        "areasPRE = areasPRE[['id_projeto','areas']]\n"
      ],
      "execution_count": null,
      "outputs": []
    },
    {
      "cell_type": "code",
      "metadata": {
        "id": "VmeA2O-GkQec"
      },
      "source": [
        "overviewPRE.to_csv(path + 'pre/OverviewPRE.csv', index=False)\n",
        "ids_projetos.to_csv(path + 'pre/ProjetosPRE.csv', index=False)\n",
        "organizacoes.to_csv(path + 'pre/OrganizacoesPRE.csv', index=False)\n",
        "\n",
        "inscritos.to_csv(path + 'pre/InscritoPRE.csv', index=False)\n",
        "mentoria.to_csv(path + 'pre/MentoriaPRE.csv', index=False)\n",
        "interessadosPRE.to_csv(path + 'pre/InteressadosPreviosPRE.csv', index=False)\n",
        "ep1PRE.to_csv(path + 'pre/EP1PRE.csv', index=False)\n",
        "ep2PRE.to_csv(path + 'pre/EP2PRE.csv', index=False)\n",
        "areasPRE.to_csv(path + 'pre/AreasPRE.csv', index=False)\n",
        "ef_mentoriaPRE.to_csv(path + 'pre/EF_MentoriaPRE.csv', index=False)\n",
        "ef_aprendizPRE.to_csv(path + 'pre/EF_AprendizPRE.csv', index=False)\n",
        "fs_mentoriaPRE.to_csv(path + 'pre/FS_MentoriaPRE.csv', index=False)\n",
        "fs_aprendizPRE.to_csv(path + 'pre/FS_AprendizPRE.csv', index=False)\n",
        "aprendizes.to_csv(path + 'pre/AprendizPRE.csv', index=False)"
      ],
      "execution_count": null,
      "outputs": []
    }
  ]
}