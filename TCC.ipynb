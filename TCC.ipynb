{
  "nbformat": 4,
  "nbformat_minor": 0,
  "metadata": {
    "colab": {
      "name": "TCC.ipynb",
      "provenance": [],
      "collapsed_sections": [],
      "toc_visible": true,
      "mount_file_id": "1bK8f79YGG9NqAxCLtrOLPl_0BGAQUA6B",
      "authorship_tag": "ABX9TyNbMbf5onLYuWTCIPEe7bxX",
      "include_colab_link": true
    },
    "kernelspec": {
      "name": "python3",
      "display_name": "Python 3"
    }
  },
  "cells": [
    {
      "cell_type": "markdown",
      "metadata": {
        "id": "view-in-github",
        "colab_type": "text"
      },
      "source": [
        "<a href=\"https://colab.research.google.com/github/JuanBarros2/tcc_andromedev/blob/main/TCC.ipynb\" target=\"_parent\"><img src=\"https://colab.research.google.com/assets/colab-badge.svg\" alt=\"Open In Colab\"/></a>"
      ]
    },
    {
      "cell_type": "code",
      "metadata": {
        "id": "kdIoT3TAW16-",
        "colab": {
          "base_uri": "https://localhost:8080/"
        },
        "outputId": "8c3873e2-cc9d-4bb6-bd48-8e15bcf5821d"
      },
      "source": [
        "#@title { display-mode: \"form\" }\n",
        "import numpy as np\n",
        "import pandas as pd \n",
        "import matplotlib.pyplot as plt  \n",
        "from scipy.stats import chi2_contingency, fisher_exact\n",
        "import seaborn as sns\n",
        "import rpy2.robjects.numpy2ri\n",
        "from rpy2.robjects.packages import importr\n",
        "import textwrap\n",
        "from google.colab import drive\n",
        "drive.mount('/content/drive')\n",
        "path =  'drive/MyDrive/TCC_DATA/data/pre/'\n"
      ],
      "execution_count": 36,
      "outputs": [
        {
          "output_type": "stream",
          "text": [
            "Drive already mounted at /content/drive; to attempt to forcibly remount, call drive.mount(\"/content/drive\", force_remount=True).\n"
          ],
          "name": "stdout"
        }
      ]
    },
    {
      "cell_type": "markdown",
      "metadata": {
        "id": "ESo5NTEzHpU1"
      },
      "source": [
        "# Resultados\n",
        "\n",
        "Nas subseções a seguir, serão apresentados os resultados obtidos das análises realizadas com base nas métricas dos aspectos relevantes para o *Andromedev*, bem como os resultados dos testes de associação para avaliação de dependências existentes entre as respostas dos aprendizes sobre aspectos do projeto e a intenção do aprendiz de continuar a contribuir para a organização ou o projeto que teve contato durante o *Andromedev*.\n",
        "\n"
      ]
    },
    {
      "cell_type": "markdown",
      "metadata": {
        "id": "MKwZgg3-XvRq"
      },
      "source": [
        "## Métricas do evento"
      ]
    },
    {
      "cell_type": "markdown",
      "metadata": {
        "id": "17vMyMKgYVTy"
      },
      "source": [
        "Analizando os dados obtidos do evento, é possível classifica-los em duas macro-categorias: *dados pré-evento* e *dados do evento*. \n"
      ]
    },
    {
      "cell_type": "markdown",
      "metadata": {
        "id": "dvFt-YGi4ToS"
      },
      "source": [
        "### Dados pré-evento"
      ]
    },
    {
      "cell_type": "code",
      "metadata": {
        "colab": {
          "base_uri": "https://localhost:8080/"
        },
        "id": "NpWSy-k54F7q",
        "outputId": "f766fb8a-2228-4fe1-a26e-56eb805edf84"
      },
      "source": [
        "#@title { display-mode: \"form\" }\n",
        "interessados = pd.read_csv(path + 'InteressadosPreviosPRE.csv')\n",
        "print(\"Foram\", interessados.shape[0], \"respostas no formulário pré-evento\")"
      ],
      "execution_count": 3,
      "outputs": [
        {
          "output_type": "stream",
          "text": [
            "Foram 107 respostas no formulário pré-evento\n"
          ],
          "name": "stdout"
        }
      ]
    },
    {
      "cell_type": "code",
      "metadata": {
        "id": "o5KCyA55gUDF",
        "colab": {
          "base_uri": "https://localhost:8080/"
        },
        "outputId": "9cc3e8af-3fc1-426e-e1c6-5a2af1f3b229"
      },
      "source": [
        "#@title { display-mode: \"form\" }\n",
        "aprendizes = pd.read_csv(path + 'AprendizPRE.csv')\n",
        "interessados_aprovados = interessados.merge(aprendizes, on=[\"id_inscrito\"])\n",
        "print(\"Interessados que foram aprovados:\", interessados_aprovados.shape[0])"
      ],
      "execution_count": 4,
      "outputs": [
        {
          "output_type": "stream",
          "text": [
            "Interessados que foram aprovados: 24\n"
          ],
          "name": "stdout"
        }
      ]
    },
    {
      "cell_type": "markdown",
      "metadata": {
        "id": "5LgWvWt6Y3ea"
      },
      "source": [
        "Essa categoria é composta por dados levantados através de uma consulta pública, realizada pelo OpenDevUFCG, antes do início do evento para avaliar o perfil dos participantes e auxiliar no desenvolvimento do regulamento. Ao todo, o formulário obteve 107 respostas distintas de interessados em participar do evento como aprendiz. Nesse formulário, foi levantado um questionamento sobre a motivação do interessado para entender o que o motivaria a participar do evento. Foram criadas seis categorias de motivações: *brindes*; *certificação de horas complementares*; *melhorar o meu currículo*; *no futuro, integrar o time do OpenDevUFCG*; *no futuro, ter mais oportunidades em laboratórios*; e *no futuro, ter prioridade em eventos do OpenDevUFCG*s. Para cada motivação, o entrevistado respondia com apenas uma das três opções possíveis:* considero desejável*, *considero essencial* ou *sou indiferente*.\n",
        "\n",
        "A seguir, temos um gráfico que mostra o condensa as respostas:"
      ]
    },
    {
      "cell_type": "code",
      "metadata": {
        "colab": {
          "base_uri": "https://localhost:8080/",
          "height": 625
        },
        "id": "68BeNWFUdQPL",
        "outputId": "7cb6ac33-0f93-4965-f954-4095ab487f2b"
      },
      "source": [
        "#@title { display-mode: \"form\" }\n",
        "categorical_features = [\"Q\" + str(i) for i in range(5,11)]\n",
        "aspects = [\"Brindes\", \"Certificação de horas\\ncomplementares\", \\\n",
        "           \"Melhorar o meu currículo\", \"No futuro, integrar\\no time do OpenDevUFCG\", \\\n",
        "           \"No futuro, ter mais\\noportunidades em laboratórios\", \\\n",
        "           \"No futuro, ter prioridade\\n em eventos do OpenDevUFCG\"]\n",
        "fig, ax = plt.subplots(3,2, figsize=(7,8))\n",
        "labels =['Sou indiferente','Considero desejável','Considero essencial']\n",
        "for col in range(0, len(categorical_features)):\n",
        "    ax_atual = ax[int(col/2)][col % 2]\n",
        "    mapping = {label: i for i, label in enumerate(labels)}\n",
        "    aux = interessados[categorical_features[col]].map(mapping)\\\n",
        "      .value_counts(sort=False)\n",
        "    aux.plot(kind=\"bar\", ax=ax_atual, ylim=(0, 80))\\\n",
        "      .set_title(aspects[col], fontsize=\"medium\")\n",
        "    ax_atual\\\n",
        "      .set_xticklabels([textwrap.fill(label, 17) for label in labels], rotation=0)\n",
        "    for i in ax_atual.patches:\n",
        "      ax_atual.text(i.get_x() +(i.get_width()/2) - .06, i.get_height()+.6, s=i.get_height() , fontsize=10)\n",
        "fig.tight_layout() \n",
        "fig.suptitle('Quão desejável é cada um dos pontos abaixo\\npara incentivar a sua participação no evento?', y=1.05, fontsize=\"x-large\")\n",
        "fig.show()"
      ],
      "execution_count": 5,
      "outputs": [
        {
          "output_type": "display_data",
          "data": {
            "image/png": "[encoded data removed]",
            "text/plain": [
              "<Figure size 504x576 with 6 Axes>"
            ]
          },
          "metadata": {
            "tags": [],
            "needs_background": "light"
          }
        }
      ]
    },
    {
      "cell_type": "markdown",
      "metadata": {
        "id": "UQAeuPDV8ORK"
      },
      "source": [
        "É possível verificar que *No futuro, ter mais oportunidades em laboratórios*, *Certificação de horas complementares* e *Melhorar o meu currículo* foram as maiores motivações dos possíveis inscritos à aprendiz no *Andromedev*. Em especial, a melhoria do currículo aparenta ser o fator mais importante dentre as opções listada por apresentar o maior número absoluto para a opção *considero essencial*, com 65 respostas, e ter o menor número absoluto para a resposta *sou indiferente*, com 41 respostas.\n",
        "Em contrapartida, é possível verificar uma baixa motivação para *brindes* sendo registrado 9 respostas para a resposta *considero essencial* e 55 para a resposta *sou indiferente*. "
      ]
    },
    {
      "cell_type": "markdown",
      "metadata": {
        "id": "2VrimKb-5QSD"
      },
      "source": [
        "### Dados do evento\n",
        "\n",
        "Uma vez finalizado o regulamento, iniciou-se o evento e foram levantados diversos formulários para extração de informações de informações básicas de projetos, inscritos e organizações, bem como as entregas exigidas em regulamento. Será subdividido as respectivas informações em *dados de inscrição e seleção* e *dados de entregas*.\n",
        "\n",
        "\n"
      ]
    },
    {
      "cell_type": "markdown",
      "metadata": {
        "id": "cOhysqOm5nUh"
      },
      "source": [
        "#### Dados de Inscrição e Seleção\n",
        "\n",
        "Essa categoria é composta por dados obtidos durante o processo de inscrição de projetos e seleção dos aprendizes. \n"
      ]
    },
    {
      "cell_type": "code",
      "metadata": {
        "id": "5UVcbZip5xpO",
        "colab": {
          "base_uri": "https://localhost:8080/"
        },
        "outputId": "c7dea65f-26ca-4306-cd3b-acecfe1d25ad"
      },
      "source": [
        "#@title { display-mode: \"form\" }\n",
        "inscritos = pd.read_csv(path + 'InscritoPRE.csv', dtype={'periodo': 'category'})\n",
        "\n",
        "print(\"Foram\", inscritos.shape[0], \"inscritos\")\n",
        "print(\"Foram\", aprendizes.shape[0], \"selecionados para os\", aprendizes.shape[0], \"projetos\")"
      ],
      "execution_count": 6,
      "outputs": [
        {
          "output_type": "stream",
          "text": [
            "Foram 145 inscritos\n",
            "Foram 50 selecionados para os 50 projetos\n"
          ],
          "name": "stdout"
        }
      ]
    },
    {
      "cell_type": "markdown",
      "metadata": {
        "id": "eMtky5YBNVV-"
      },
      "source": [
        "Ao todo, o evento teve 145 inscritos para aprendiz em 50 projetos diferentes. É importante ressaltar que um projeto foi abandonado na fase de seleção de  aprendizes, contudo a intenção dos seus inscritos foi remanejado para outros projetos."
      ]
    },
    {
      "cell_type": "markdown",
      "metadata": {
        "id": "fbSfWmOj3I3f"
      },
      "source": [
        "Tendo como referência o grupo alvo esperado pela organização, podemos avaliar duas questões levantadas no formulário de inscrição para aprendizes: a pertencência (ou não) de grupos subrepresentados na sociedade e/ou na tecnologia; e o período de ingressão à graduação em ciência da computação pela UFCG. A seguir, temos os gráficos que representam a frequência absoluta para as opções levantadas para a pergunta de múltipla escolha \"*Você se identifica com algum(ns) grupo(s) subrepresentado(s) na sociedade e/ou na área de tecnologia?*\":\n",
        "\n"
      ]
    },
    {
      "cell_type": "code",
      "metadata": {
        "id": "bSwgyNqTcXXp",
        "colab": {
          "base_uri": "https://localhost:8080/",
          "height": 383
        },
        "outputId": "c48a4551-ffd0-4bfc-8776-07fd8806d5ac"
      },
      "source": [
        "#@title { display-mode: \"form\" }\n",
        "groups = ['Não, eu não me identifico com nenhum grupo subrepresentado.', 'Pardos', 'LGBTQIA+.', 'Mulheres.', 'Negros.', 'Pessoa com deficiência.']\n",
        "def add_minoritary(row):\n",
        "  for group in groups:\n",
        "    row[group] = group in row['Q3']\n",
        "  return row\n",
        "perfil_minoritario = inscritos.apply(add_minoritary, axis=1)\n",
        "perfil_minoritario_aprendiz = perfil_minoritario.merge(aprendizes, on=['id_inscrito'], how=\"right\")\n",
        "d={'Inscritos': perfil_minoritario[groups].sum(),\n",
        "   'Aprovados':  perfil_minoritario_aprendiz[groups].sum()}\n",
        "aux = pd.DataFrame(data=d)\n",
        "ax = aux.plot(kind='barh', figsize=(7,5))\n",
        "ax.set_title(textwrap.fill('Você se identifica com algum(ns) grupo(s) subrepresentado(s) na sociedade e/ou na área de tecnologia?', 60), y=1, fontsize=\"large\")\n",
        "ax.set_yticklabels([textwrap.fill(label, 17) for label in groups])\n",
        "for i in ax.patches:\n",
        "    ax.text(i.get_width()+.3, i.get_y()+.07, \\\n",
        "            i.get_width(), fontsize=10)\n",
        "ax.set_xlabel('Frequência')"
      ],
      "execution_count": 7,
      "outputs": [
        {
          "output_type": "execute_result",
          "data": {
            "text/plain": [
              "Text(0.5, 0, 'Frequência')"
            ]
          },
          "metadata": {
            "tags": []
          },
          "execution_count": 7
        },
        {
          "output_type": "display_data",
          "data": {
            "image/png": "[encoded data removed]",
            "text/plain": [
              "<Figure size 504x360 with 1 Axes>"
            ]
          },
          "metadata": {
            "tags": [],
            "needs_background": "light"
          }
        }
      ]
    },
    {
      "cell_type": "markdown",
      "metadata": {
        "id": "hAJRleRCS-Ko"
      },
      "source": [
        "As opções levantadas para resposta dessa questão foram: *Pessoa com deficiência*, *negros*, *mulheres*, *LGBTQIA+*, *Não, eu não me identifico com nenhum grupo subrepresentado* e um campo aberto para *Outros*. A opção *pardos* foi listada no gráfico acima para facilitar a visualização, tendo em vista que as respostas para *outros* registraram apenas essa resposta.\n",
        "\n",
        "É possível verificar que a relação de pessoas que marcaram não se identificar com grupos subrepresentados predominou na lista de inscritos para o evento. A predominancia dessa categoria era esperado, e, através do valor absoluto dessa classe (79 inscritos), podemos afirmar que os 66 inscritos restantes se indentificam com pelo menos uma das classes listadas. Análogamente, podemos inferir que dos 50 aprovados, 30 representam participantes de grupos subrepresentados. Dessa forma, a instrução passada pela organização do Andromedev para que os mentores buscassem selecionar pessoas pertencentes a grupos subrepresentados, pareceu ser atendida, uma vez que a comparação entre aprovados e inscritos mostra um equilíbrio nas classes subrepresentadas. \n",
        "\n",
        "Em análise aos valores relativos a cada categoria, é possível ver que pessoas  com deficiência, mulheres, LGBTQIA+ e pardos tiveram valores de aprovação iguais a pelo menos 50%. Contudo, o grupo de pessoas que se identificam como negras teve um valor baixo de aprovações, mesmo em comparação com números absolutos do grupo. Ao todo, foram 13 pessoas inscritas mas apenas 3 foram aprovadas para o evento. \n"
      ]
    },
    {
      "cell_type": "markdown",
      "metadata": {
        "id": "9C9yGfg-YPvl"
      },
      "source": [
        "Já em termos de período de ingressão na universidade, temos o seguinte gráfico de distribuição para os períodos que houveram inscritos:"
      ]
    },
    {
      "cell_type": "code",
      "metadata": {
        "id": "Z9RlB-wU2IQx",
        "colab": {
          "base_uri": "https://localhost:8080/",
          "height": 247
        },
        "outputId": "27f0543e-7bc5-4763-8beb-01cde2e97669"
      },
      "source": [
        "#@title { display-mode: \"form\" }\n",
        "periodos = sorted(list(set(inscritos['periodo'])))\n",
        "perfil_curso_aprendiz = inscritos[['periodo', 'id_inscrito']].merge(aprendizes, on=['id_inscrito'], how=\"right\")\n",
        "d={'Inscritos': inscritos[['periodo']].groupby('periodo').size().reset_index(name='inscritos')['inscritos'],\n",
        "   'Aprovados' : perfil_curso_aprendiz[['periodo']].groupby('periodo').size().reset_index(name='aprendiz')['aprendiz']}\n",
        "aux = pd.DataFrame(data=d)\n",
        "ax = aux.plot(kind='bar', figsize=(11,3), ylim=(0.9,70))\n",
        "ax.set_title('Frequência de inscritos e aprovados considerando o período de ingressão', fontsize=\"x-large\", y=1.03)\n",
        "ax.set_xticklabels(periodos, rotation=0)\n",
        "\n",
        "plt.yscale('log')\n",
        "ax.legend(ax.get_legend_handles_labels()[1], loc = 'upper left')\n",
        "for i in ax.patches:\n",
        "    height = 0.9 if i.get_height() == 0 else i.get_height()\n",
        "    height = height + abs(np.log(height))\n",
        "    \n",
        "    ax.text(i.get_x() +(i.get_width()/2) - .06, height, s=i.get_height() , fontsize=10)\n",
        "ax.set_xlabel('Período')\n",
        "fig.show()\n"
      ],
      "execution_count": 172,
      "outputs": [
        {
          "output_type": "display_data",
          "data": {
            "image/png": "[encoded data removed]",
            "text/plain": [
              "<Figure size 792x216 with 1 Axes>"
            ]
          },
          "metadata": {
            "tags": [],
            "needs_background": "light"
          }
        }
      ]
    },
    {
      "cell_type": "markdown",
      "metadata": {
        "id": "-uulKLHBYeek"
      },
      "source": [
        "Com base no perfil esperado pelo OpenDevUFCG, é possível verificar que o evento atingiu o público esperado, sendo composto em boa parte por inscritos e aprovados dos 4 primeiros períodos (2020.2 até 2019.1). Nessa faixa de público, a maior parte dos estudantes estão iniciando o contato com o desenvolvimento de software em equipe e a experiência do evento pode ser um diferencial no currículo, alinhado com a motivação dos inscritos discutida nas sessões anteriores.\n",
        "\n",
        "Todavia, é preciso salientar que os valores para as frequências em cada período podem ser afetadas por fatores externos que não foram mensurados no questionário de inscrição, como a limpeza de currículo ou trancamento de curso. Dessa forma, a análise poderia ser mais aprofundada se a organização tivesse realizado perguntas que explanassem sobre os fatores acima citados. \n"
      ]
    },
    {
      "cell_type": "markdown",
      "metadata": {
        "id": "DJi9vhylqdDh"
      },
      "source": [
        "Ainda sobre os projetos, podemos analisar a distribuição das naturezas de colaboração que foram levantadas ao serem cadastrados projetos no evento. Na submissão de um projeto, era esperado que fosse marcado alguma das categorias a seguir: *Automação de processos*, *design de interface UX*, *documentação*, *implementação de features*, *implementação de testes*, *infraestrutura* e *refatoração*. A pergunta permitia múltipla escolha e admitia um campo aberto para outras categorias, a qual recebia o texto correspondente à entrada do respondente. A relação com as frequências absolutas para cada uma das categorias pode ser visto no gráfico abaixo:"
      ]
    },
    {
      "cell_type": "code",
      "metadata": {
        "id": "ttqo8BRiiBAG",
        "colab": {
          "base_uri": "https://localhost:8080/",
          "height": 345
        },
        "outputId": "9cac457f-5583-4923-f073-3b700049a81e"
      },
      "source": [
        "#@title { display-mode: \"form\" }\n",
        "areas = pd.read_csv(path + 'AreasPRE.csv')\n",
        "labels = [\"Automação de Processos\",\\\n",
        "          \"Design de Interface UX\",\\\n",
        "          \"Documentação\",\\\n",
        "          \"Implementação de features\",\\\n",
        "          \"Implementação de testes\",\\\n",
        "          \"Infraestrutura\",\\\n",
        "          \"Refatoração\", \\\n",
        "          \"Outros\"]\n",
        "def apply_row(row):\n",
        "  if row.areas not in labels:\n",
        "    row.areas = 'Outros'\n",
        "  return row\n",
        "areas = areas.apply(apply_row, axis=1 )\n",
        "areas = areas.groupby('areas').size().reset_index(name='count')\n",
        "condition = areas['areas'] == 'Outros'\n",
        "areas = pd.concat([areas[condition], areas[~condition].sort_values(by=['areas'],ascending=False)])\n",
        "fig, ax = plt.subplots(figsize=(7,5))\n",
        "ax.set_title('Classificação de projetos por natureza da colaboração', fontsize=\"x-large\", y=1.03)\n",
        "ax.barh(areas['areas'], areas['count'])\n",
        "for i in ax.patches:\n",
        "    ax.text(i.get_width()+.3, i.get_y()+.4, \\\n",
        "            i.get_width(), fontsize=10)"
      ],
      "execution_count": 8,
      "outputs": [
        {
          "output_type": "display_data",
          "data": {
            "image/png": "[encoded data removed]",
            "text/plain": [
              "<Figure size 504x360 with 1 Axes>"
            ]
          },
          "metadata": {
            "tags": [],
            "needs_background": "light"
          }
        }
      ]
    },
    {
      "cell_type": "code",
      "metadata": {
        "id": "I-KEVJTY0yDu",
        "colab": {
          "base_uri": "https://localhost:8080/",
          "height": 228
        },
        "outputId": "be1be9d5-275b-4aca-e6ab-70dab3da7a24"
      },
      "source": [
        "areas = pd.read_csv(path + 'AreasPRE.csv')\n",
        "areas = areas.groupby('areas').size().reset_index(name='size')\n",
        "areas[~areas['areas'].isin(labels)]"
      ],
      "execution_count": 9,
      "outputs": [
        {
          "output_type": "execute_result",
          "data": {
            "text/html": [
              "<div>\n",
              "<style scoped>\n",
              "    .dataframe tbody tr th:only-of-type {\n",
              "        vertical-align: middle;\n",
              "    }\n",
              "\n",
              "    .dataframe tbody tr th {\n",
              "        vertical-align: top;\n",
              "    }\n",
              "\n",
              "    .dataframe thead th {\n",
              "        text-align: right;\n",
              "    }\n",
              "</style>\n",
              "<table border=\"1\" class=\"dataframe\">\n",
              "  <thead>\n",
              "    <tr style=\"text-align: right;\">\n",
              "      <th></th>\n",
              "      <th>areas</th>\n",
              "      <th>size</th>\n",
              "    </tr>\n",
              "  </thead>\n",
              "  <tbody>\n",
              "    <tr>\n",
              "      <th>0</th>\n",
              "      <td>Análise de dados</td>\n",
              "      <td>2</td>\n",
              "    </tr>\n",
              "    <tr>\n",
              "      <th>1</th>\n",
              "      <td>Análise e visualização de dados</td>\n",
              "      <td>1</td>\n",
              "    </tr>\n",
              "    <tr>\n",
              "      <th>2</th>\n",
              "      <td>Aprendizagem de máquina</td>\n",
              "      <td>1</td>\n",
              "    </tr>\n",
              "    <tr>\n",
              "      <th>4</th>\n",
              "      <td>Desenvolvimento do site do Centro Acadêmico</td>\n",
              "      <td>1</td>\n",
              "    </tr>\n",
              "    <tr>\n",
              "      <th>7</th>\n",
              "      <td>Front-End</td>\n",
              "      <td>1</td>\n",
              "    </tr>\n",
              "    <tr>\n",
              "      <th>12</th>\n",
              "      <td>desenvolvimento de página web</td>\n",
              "      <td>1</td>\n",
              "    </tr>\n",
              "  </tbody>\n",
              "</table>\n",
              "</div>"
            ],
            "text/plain": [
              "                                          areas  size\n",
              "0                              Análise de dados     2\n",
              "1               Análise e visualização de dados     1\n",
              "2                       Aprendizagem de máquina     1\n",
              "4   Desenvolvimento do site do Centro Acadêmico     1\n",
              "7                                     Front-End     1\n",
              "12                desenvolvimento de página web     1"
            ]
          },
          "metadata": {
            "tags": []
          },
          "execution_count": 9
        }
      ]
    },
    {
      "cell_type": "markdown",
      "metadata": {
        "id": "htqGv9iOyNS1"
      },
      "source": [
        "A classe que obteve a maior frequência em projetos foi a *implementação de features*, estando presente em 38 projetos dos 50 totais. Em seguida, temos *documentação* com 16 registros, *design de interface UX* com 14 e *implementação de testes* com 11. Na categoria outros, as respostas foram divididas entre áreas de análise e visualização de dados, aprendizado de máquina e desenvolvimento de páginas web.\n",
        "\n",
        "Tendo em vista a distribuição das áreas, estas parecem terem entrado em concordância com o que foi estabelecido em regulamento, sendo possível adicionar, também, a categoria de análise de dados para abarcar as categorias faltantes."
      ]
    },
    {
      "cell_type": "markdown",
      "metadata": {
        "id": "OnAQHR32-eH5"
      },
      "source": [
        "#### Dados de entregas\n",
        "\n",
        "Essa categoria é composta por dados obtidos durante o período de desenvolvimento do evento, pós-seleção. Aqui estão condensados as respostas registradas para os seguintes questionários: *entrega final*, *entregas parciais* e *feedbacks semanais*.  "
      ]
    },
    {
      "cell_type": "code",
      "metadata": {
        "id": "zuUJ3VFz-yKn",
        "colab": {
          "base_uri": "https://localhost:8080/"
        },
        "outputId": "eda888c9-cf3c-4535-df32-f6b7e3d8acbb"
      },
      "source": [
        "#@title { display-mode: \"form\" }\n",
        "ef_aprendiz = pd.read_csv(path + 'EF_AprendizPRE.csv')\n",
        "ef_mentoria = pd.read_csv(path + 'EF_MentoriaPRE.csv')\n",
        "fs_aprendiz = pd.read_csv(path + 'FS_AprendizPRE.csv')\n",
        "fs_mentoria = pd.read_csv(path + 'FS_MentoriaPRE.csv')\n",
        "print(\"Foram realizados\", ef_aprendiz[ef_aprendiz['data'].notna()].shape[0], \"registros de entregas final por aprendizes\")\n",
        "print(\"Foram realizados\", ef_mentoria[ef_mentoria['data'].notna()].shape[0], \"registros de entregas final por mentores\")\n",
        "print(\"Foram realizados\", fs_aprendiz[fs_aprendiz['atraso'].notna()].shape[0], \"registros de feedback semanal por aprendizes\")\n",
        "print(\"Foram realizados\", fs_mentoria[fs_mentoria['atraso'].notna()].shape[0], \"registros de feedback semanal por mentores\")"
      ],
      "execution_count": 10,
      "outputs": [
        {
          "output_type": "stream",
          "text": [
            "Foram realizados 41 registros de entregas final por aprendizes\n",
            "Foram realizados 33 registros de entregas final por mentores\n",
            "Foram realizados 196 registros de feedback semanal por aprendizes\n",
            "Foram realizados 188 registros de feedback semanal por mentores\n"
          ],
          "name": "stdout"
        }
      ]
    },
    {
      "cell_type": "markdown",
      "metadata": {
        "id": "GHvT6eysk1Zz"
      },
      "source": [
        "##### Entrega Semanal"
      ]
    },
    {
      "cell_type": "markdown",
      "metadata": {
        "id": "SoP99wGGxeX8"
      },
      "source": [
        "Os *feedbacks semanais* acompanharam os projetos durante todo o evento. Neles, aprendizes e mentores registraram semanalmente o andamento dos seus progressos em relação ao seu respectivo projeto. Dessa forma, era esperado que semanalmente mentores e aprendizes registrassem uma resposta para esse questionário. A seguir, temos um gráfico que relaciona a quantidade de respostas registradas e a semana do evento a qual era esperada a submissão:"
      ]
    },
    {
      "cell_type": "code",
      "metadata": {
        "id": "q0nNq8SdiBZr",
        "colab": {
          "base_uri": "https://localhost:8080/",
          "height": 534
        },
        "outputId": "0209ec56-a87f-4246-b9b0-9478e869e551"
      },
      "source": [
        "#@title { display-mode: \"form\" }\n",
        "fig, ax = plt.subplots(2, 1, figsize=(10, 7))\n",
        "\n",
        "def build_grafico(ax, title, df):\n",
        "  df['entrega'] = df['atraso'].notna()\n",
        "  count = df[['semana','entrega']].groupby(by=['semana','entrega'], dropna=False).size().reset_index(name='count')\n",
        "  faltas_df = count[count['entrega'] == False]\n",
        "  entregas_df = count[count['entrega'] == True]\n",
        "  labels = sorted(list(set(df['semana'])))\n",
        "\n",
        "  ax.set_title(title, fontsize=\"x-large\", y=1.03)\n",
        "  ax.bar(labels, entregas_df['count'], label='Realizada')\n",
        "  ax.bar(labels, faltas_df['count'], label='Não Realizada',bottom=entregas_df['count'])\n",
        "  ax.set_xticklabels([textwrap.fill(label, 12) for label in labels])\n",
        "  \n",
        "  for i in ax.patches:\n",
        "      ax.text(i.get_x() + (i.get_width()/2) - .1, i.get_y() + (i.get_height()/2) - .1, \\\n",
        "              i.get_height(), fontsize=11)\n",
        "build_grafico(ax[0],\"Aprendizes\", fs_aprendiz)\n",
        "build_grafico(ax[1],\"Mentores\", fs_mentoria)\n",
        "fig.legend(*fig.axes[-1].get_legend_handles_labels(), loc = 'upper right')\n",
        "fig.tight_layout() \n",
        "fig.suptitle('Respostas para feedback semanal', y=1.02, fontsize=\"xx-large\")\n",
        "fig.show()"
      ],
      "execution_count": 11,
      "outputs": [
        {
          "output_type": "display_data",
          "data": {
            "image/png": "[encoded data removed]",
            "text/plain": [
              "<Figure size 720x504 with 2 Axes>"
            ]
          },
          "metadata": {
            "tags": [],
            "needs_background": "light"
          }
        }
      ]
    },
    {
      "cell_type": "markdown",
      "metadata": {
        "id": "i18QIUuN0ctv"
      },
      "source": [
        "Analizando o gráfico para os valores de aprendizes a tendência ilustrada nos gráficos, é possível identificar uma queda na quantidade de respostas a medida que o evento foi passando. Passada a primeira semana, pelo menos 50% dos aprendizes não realizaram a submissão da resposta para o acompanhamento semanal, demonstrando uma baixa adesão dos aprendizes em relação a esta entrega. Os registros para as semanas seguintes ocilam entre 24 a 21 respostas registradas. O mesmo comportamento de queda é notado no gráfico para mentores, contudo tendo sua queda a partir da segunda semana de submissão, tendo valores que ocilaram de 24 a 13 registros. Levando em consideração as respostas  de mentores para melhorias a serem aplicadas para próximas edições, levantada nas outras entregas, podemos dar como um dos motivos a dificuldade para o preenchimento do formulário. Em um comentário para a primeira entrega parcial, destacamos o seguinte relato: \n",
        "\n",
        "> *Estou achando um pouco confusa o feedback semanal. Acho que a organização (OpenDevUFCG) poderia mandar o form semanalmente referente à semana em questão.\n",
        "Eu me confundi bastante com isso, acredito que tenha feito mais de uma vez uma semana, pulei várias.*\n",
        "\n",
        "Além disso, também foi realizado uma sugestão de melhoria que ajudasse a notificar sobre o prazo das entregas:\n",
        "\n",
        "> *Adicionar no calendário das pessoas as entregas semanais. Sei que é uma responsabilidade de gerenciamento de cada projeto, mas com certeza é um adicional que melhoraria as coisas e não é tão complicado de ser implementado.*\n",
        "\n",
        "Com isso posto, a entrega semanal pode ser feita visando a remoção de barreiras, tais como opções que poderiam ser automatizadas e estratégias de notificação para os prazos.\n",
        "\n",
        "##### TODO Análise sobre atrasos e sobre perspectiva de importancia\n",
        "\n"
      ]
    },
    {
      "cell_type": "markdown",
      "metadata": {
        "id": "No47NRHltxDG"
      },
      "source": [
        "##### Entregas Parciais"
      ]
    },
    {
      "cell_type": "code",
      "metadata": {
        "id": "ncj9mO6zsp8o",
        "colab": {
          "base_uri": "https://localhost:8080/"
        },
        "outputId": "b0b57840-4712-48b0-ab35-ddbc3e1ec6c9"
      },
      "source": [
        "#@title { display-mode: \"form\" }\n",
        "ep1 = pd.read_csv(path + 'EP1PRE.csv')\n",
        "ep2 = pd.read_csv(path + 'EP2PRE.csv')\n",
        "print(\"Foram realizados\", ep1[ep1['data'].notna()].shape[0], \"registros de primeira entrega parcial por projetos\")\n",
        "print(\"Foram realizados\", ep2[ep2['data'].notna()].shape[0], \"registros de segunda entrega parcial por projetos\")\n"
      ],
      "execution_count": 12,
      "outputs": [
        {
          "output_type": "stream",
          "text": [
            "Foram realizados 45 registros de primeira entrega parcial por projetos\n",
            "Foram realizados 44 registros de segunda entrega parcial por projetos\n"
          ],
          "name": "stdout"
        }
      ]
    },
    {
      "cell_type": "markdown",
      "metadata": {
        "id": "qskwAql_nay3"
      },
      "source": [
        "\n",
        "\n",
        "Essa entrega corresponde aos formulários realizados durante a execução do evento sendo feita apenas uma submissão por projeto. Em análise a esta entrega, tivemos um valor maior de submissões. Nas duas entregas parciais, foram registradas, respectivamente, 45 e 44 submissões, representando um total de 88% e 90% de participação. Para entender a evolução dos projetos no evento, foi registrado a seguinte pergunta nesse formulário: *As atividades do ciclo inicialmente definidas, foram concluídas como o esperado?*. O gráfico a seguir, representa o levantamento das respostas para as duas entregas parciais para essa pergunta:\n"
      ]
    },
    {
      "cell_type": "code",
      "metadata": {
        "id": "8e0_6VUJ0_R9",
        "colab": {
          "base_uri": "https://localhost:8080/",
          "height": 200
        },
        "outputId": "7d955281-7a14-4f3e-de8a-2bc062775335"
      },
      "source": [
        "#@title { display-mode: \"form\" }\n",
        "fig, ax = plt.subplots(2, 1, figsize=(6, 2))\n",
        "\n",
        "def build_grafico(ax, title, df):\n",
        "  \n",
        "  df = df[df['Q1'].notna()]\n",
        "  count = df[['Q1']].groupby(by=['Q1'],dropna=False).size().reset_index(name='count')\n",
        "  \n",
        "  concluido_df = count[count['Q1'] == 'Sim']\n",
        "  nao_concluido_df = count[count['Q1'] == 'Não']\n",
        "  labels = [\"\"]\n",
        "\n",
        "  ax.set_title(title, fontsize=\"large\", y=1.03)\n",
        "  ax.barh(labels, concluido_df['count'], label='Sim')\n",
        "  ax.barh(labels, nao_concluido_df['count'], label='Não', left=concluido_df['count'])\n",
        "\n",
        "  for i in ax.patches:\n",
        "      ax.text(i.get_x() + (i.get_width()/2) - .1, i.get_y() + (i.get_height()/2) - .1, \\\n",
        "              i.get_width(), fontsize=11)\n",
        "build_grafico(ax[0],\"Primeira entrega parcial\", ep1)\n",
        "build_grafico(ax[1],\"Segunda entrega parcial\", ep2)\n",
        "fig.legend(*fig.axes[-1].get_legend_handles_labels(), loc = 'upper right', bbox_to_anchor=(1, 1.1))\n",
        "fig.suptitle('As atividades do ciclo inicialmente definidas,\\nforam concluídas como o esperado?', y=1.25, fontsize=\"x-large\")\n",
        "fig.tight_layout() "
      ],
      "execution_count": 13,
      "outputs": [
        {
          "output_type": "display_data",
          "data": {
            "image/png": "[encoded data removed]",
            "text/plain": [
              "<Figure size 432x144 with 2 Axes>"
            ]
          },
          "metadata": {
            "tags": [],
            "needs_background": "light"
          }
        }
      ]
    },
    {
      "cell_type": "markdown",
      "metadata": {
        "id": "UFJyqUOjDgWb"
      },
      "source": [
        "A primeira entrega reuniu 43 respostas afirmativas para a questão levantada, mostrando um percentual de aproximadamente 95% dos projetos que realizaram essa entrega. É importante salientar que a primeira entrega aconteceu nas primeiras semanas de desenvolvimento, logo o planejamento dos projetos focava em introduzir o aprendiz ao ambiente de desenvolvimento, comunidade e tecnologias envolvidas no projeto. \n",
        "\n",
        "Na segunda entrega, houve um decréscimo na quantidade de respostas afirmativas, apenas 30 projetos finalizaram suas atividades. Nessa segunda entrega, o aprendiz já estava mais familiarizado com as tecnologias e as atividades nessa fase, em geral eram mais complexas e exigiam mais esforço para concluí-las. Além disso, os projetos que não concluiram as atividades na primeira entrega, tiveram que lidar com as atividades em atraso também, dificultando a conclusão do planejamento. "
      ]
    },
    {
      "cell_type": "markdown",
      "metadata": {
        "id": "xo8coxZrleqp"
      },
      "source": [
        "##### Entrega Final\n"
      ]
    },
    {
      "cell_type": "markdown",
      "metadata": {
        "id": "Atet47_DIDmg"
      },
      "source": [
        "Por fim, foram coletadas informações sobre o projeto ao final do evento, como sendo uma última entrega. Essa entrega foi enviada por mentores e aprendizes e reuniu, respectivamente, 41 e 33 registros. Esta relação pode ser visualizada no gráfico a seguir:"
      ]
    },
    {
      "cell_type": "code",
      "metadata": {
        "id": "bg3qmobxtzQ8",
        "colab": {
          "base_uri": "https://localhost:8080/",
          "height": 179
        },
        "outputId": "9fbbf4f3-4ee8-4d51-ec7e-5ffd1a47658c"
      },
      "source": [
        "#@title { display-mode: \"form\" }\n",
        "fig, ax = plt.subplots(2, 1, figsize=(6, 2))\n",
        "\n",
        "def build_grafico(ax, title, df):\n",
        "  df['entrega'] = df['data'].notna()\n",
        "  count = df[['entrega']].groupby(by=['entrega'],dropna=False).size().reset_index(name='count')\n",
        "  faltas_df = count[count['entrega'] == False]\n",
        "  entregas_df = count[count['entrega'] == True]\n",
        "  labels = [\"\"]\n",
        "\n",
        "  ax.set_title(title, fontsize=\"large\", y=1.03)\n",
        "  ax.barh(labels, entregas_df['count'], label='Realizada')\n",
        "  ax.barh(labels, faltas_df['count'], label='Não Realizada',left=entregas_df['count'])\n",
        "\n",
        "  for i in ax.patches:\n",
        "      ax.text(i.get_x() + (i.get_width()/2) - .1, i.get_y() + (i.get_height()/2) - .1, \\\n",
        "              i.get_width(), fontsize=11)\n",
        "build_grafico(ax[0], \"Aprendizes\", ef_aprendiz)\n",
        "build_grafico(ax[1], \"Mentores\", ef_mentoria)\n",
        "fig.legend(*fig.axes[-1].get_legend_handles_labels(), loc = 'upper right', bbox_to_anchor=(1.1, 1.1))\n",
        "fig.suptitle('Submissão para entrega final', y=1.1, fontsize=\"x-large\")\n",
        "fig.tight_layout() "
      ],
      "execution_count": 14,
      "outputs": [
        {
          "output_type": "display_data",
          "data": {
            "image/png": "[encoded data removed]",
            "text/plain": [
              "<Figure size 432x144 with 2 Axes>"
            ]
          },
          "metadata": {
            "tags": [],
            "needs_background": "light"
          }
        }
      ]
    },
    {
      "cell_type": "markdown",
      "metadata": {
        "id": "bd28gvBicuN0"
      },
      "source": [
        "Levando como base as perguntas realizadas nessa entrega, foram extraídas uma sequência de características sobre o processo de desenvolvimento no evento, bem como informações sobre o projeto. É importante levar em consideração que todas as respostas representam a visão pessoal de aprendizes e mentores ao fim do projeto, podendo apresentar divergencias entre as visões das partes (aprendiz e mentor) e até mesmo não representar uma visão futura concreta do projeto, uma vez que este pode ter realizado mudanças após o término do evento.\n",
        "\n",
        "##### TODO Análise de características levantadas na sessão seguinte"
      ]
    },
    {
      "cell_type": "markdown",
      "metadata": {
        "id": "Hn-8jhz7Rqqe"
      },
      "source": [
        "# Analizando valores obtido nas entregas\n"
      ]
    },
    {
      "cell_type": "markdown",
      "metadata": {
        "id": "bx1wxt4YRLLB"
      },
      "source": [
        "## Quantos projetos foram concluídos?\n",
        "Alguns aprendizes discordaram quanto ao status final do projeto. Foram mantidas as opiniões que corresponderam entre mentor e aprendiz, e, em caso faltante, foi mantida a opinião do aprendiz, tendo em vista que não houveram casos em que o mentor respondeu e o aprendiz não."
      ]
    },
    {
      "cell_type": "code",
      "metadata": {
        "id": "z1efGGP9Qce_",
        "colab": {
          "base_uri": "https://localhost:8080/"
        },
        "outputId": "0df83c1d-273f-4677-d69e-1e3d322b668f"
      },
      "source": [
        "#@title { display-mode: \"form\" }\n",
        "# Concatenação de matchs entre respostas + valores de registros de aprendizes que mentor não respondeu\n",
        "merge = ef_mentoria[['Q5', 'projeto']].merge(ef_aprendiz[['Q7', 'projeto']], on='projeto', how='right')\n",
        "ef_convergentes = merge[(merge['Q5'] == merge['Q7']) & (merge['Q5'].notna())]\n",
        "ef_ausentes = merge[(merge['Q7'].notna()) & (merge['Q5'].isna())]\n",
        "ef_mentoria_compativel = pd.concat([ef_convergentes, ef_ausentes])\n",
        "ef_mentoria_compativel = ef_aprendiz[ef_aprendiz['projeto'].isin(ef_mentoria_compativel['projeto'])]\n",
        "print(\"Somando\", ef_convergentes.shape[0] , \"registros de aprendizes e mentores que convergiram para a mesma resposta\")\n",
        "print(\"e os\", ef_ausentes.shape[0], \"em que o mentor não respondeu, temos:\", ef_mentoria_compativel.shape[0])"
      ],
      "execution_count": 15,
      "outputs": [
        {
          "output_type": "stream",
          "text": [
            "Somando 28 registros de aprendizes e mentores que convergiram para a mesma resposta\n",
            "e os 11 em que o mentor não respondeu, temos: 39\n"
          ],
          "name": "stdout"
        }
      ]
    },
    {
      "cell_type": "markdown",
      "metadata": {
        "id": "d5YhqIFrSTtI"
      },
      "source": [
        "## Qual foi a taxa de intenção em continuar contribuindo para os projetos do Andromedev?\n"
      ]
    },
    {
      "cell_type": "markdown",
      "metadata": {
        "id": "WAl5tnTWR1Uo"
      },
      "source": [
        "A questão 17, da entrega final do aprendiz, representava a seguinte pergunta:\n",
        "\n",
        " *Você irá continuar a contribuir com esse ou outro projeto dessa organização?*\n",
        "\n",
        "Indo de 1 (muito improvável) a 5 (muito provável).\n",
        "\n",
        "\n"
      ]
    },
    {
      "cell_type": "code",
      "metadata": {
        "id": "c7zz09MEgqG6",
        "colab": {
          "base_uri": "https://localhost:8080/",
          "height": 157
        },
        "outputId": "e6da2b9f-8652-47e6-e594-4abc93f99f13"
      },
      "source": [
        "aux = ef_aprendiz[['Q17', 'projeto']].groupby(by=[\"Q17\"]).size().reset_index(name='count')\n",
        "fig, ax = plt.subplots(figsize=(6, 2))\n",
        "#ax.set_title(title, fontsize=\"x-large\", y=1.03)\n",
        "labels = ['']\n",
        "aux=[aux[aux['Q17'] == i]['count'] for i in range(1,6)]\n",
        "ax.barh(labels, aux[0], label=\"1\")\n",
        "for i in range(1, len(aux)):\n",
        "  ax.barh(labels, aux[i], left=aux[i-1], label=str(i + 1))\n",
        "\n",
        "for i in ax.patches:\n",
        "  ax.text(i.get_x() + (i.get_width()/2) - .1, i.get_y() + (i.get_height()/2) - .1, \\\n",
        "  i.get_width(), fontsize=11)\n",
        "#ax.barh(labels, faltas_df['count'], label='4',left=entregas_df['count'])\n",
        "#ax.barh(labels, faltas_df['count'], label='5',left=entregas_df['count'])\n",
        "#.plot(kind='bar', figsize=(11,3))"
      ],
      "execution_count": 16,
      "outputs": [
        {
          "output_type": "display_data",
          "data": {
            "image/png": "[encoded data removed]",
            "text/plain": [
              "<Figure size 432x144 with 1 Axes>"
            ]
          },
          "metadata": {
            "tags": [],
            "needs_background": "light"
          }
        }
      ]
    },
    {
      "cell_type": "markdown",
      "metadata": {
        "id": "dVm8E-ODTXbH"
      },
      "source": [
        "A questão 12, da entrega final do mentor, representava a seguinte pergunta:\n",
        "\n",
        "*Você tem disponibilidade para continuar a mentorar esse ou outro projeto com o/a seu/sua aprendiz atual?*\n",
        "\n",
        "A pergunta aceitava como resposta *Sim* e *Não*"
      ]
    },
    {
      "cell_type": "code",
      "metadata": {
        "id": "iICMDKUrUSzt",
        "colab": {
          "base_uri": "https://localhost:8080/",
          "height": 283
        },
        "outputId": "a22a9c31-d21c-4461-cf05-8e33f1966f44"
      },
      "source": [
        "ef_mentoria['Q12'].hist()"
      ],
      "execution_count": 17,
      "outputs": [
        {
          "output_type": "execute_result",
          "data": {
            "text/plain": [
              "<matplotlib.axes._subplots.AxesSubplot at 0x7f75bec96250>"
            ]
          },
          "metadata": {
            "tags": []
          },
          "execution_count": 17
        },
        {
          "output_type": "display_data",
          "data": {
            "image/png": "[encoded data removed]",
            "text/plain": [
              "<Figure size 432x288 with 1 Axes>"
            ]
          },
          "metadata": {
            "tags": [],
            "needs_background": "light"
          }
        }
      ]
    },
    {
      "cell_type": "markdown",
      "metadata": {
        "id": "c2evvrmtRLSa"
      },
      "source": [
        "## Quais características podem associar as respostas dos aprendizes com a finalização dos projetos?"
      ]
    },
    {
      "cell_type": "code",
      "metadata": {
        "id": "hqKVFSz1XXoy"
      },
      "source": [
        "#@title { display-mode: \"form\" }\n",
        "def test_hipotheses(df, columns, significance = 0.05):\n",
        "  qfirst = np.array(df[columns[0]], dtype=object)\n",
        "  qsecond = np.array(df[columns[1]], dtype=object)\n",
        "  #pd.Categorical(df[columns[1]], categories=categories[1])\n",
        "\n",
        "  tabela = pd.crosstab(qfirst, qsecond)\n",
        "  test_fisher(tabela, significance)\n",
        "  return test_qui_square(tabela, significance)\n",
        "\n",
        "def test_fisher(tabela, significance):  \n",
        "  rpy2.robjects.numpy2ri.activate()\n",
        "  stats = importr('stats')\n",
        "  res = stats.fisher_test(tabela.to_numpy())\n",
        "  pvalor = res[0][0]\n",
        "  print('-------------------------------------------------------------------------------------')\n",
        "  print(\"TESTE EXATO DE FISHER\")\n",
        "  print('p-value: {}'.format(pvalor))\n",
        "  if pvalor <= significance:\n",
        "    print(\"\"\"Nível de significancia: %.2f\\nRejeitamos a hipótese nula e aceitamos H1. Elas não são independentes.\"\"\" % (significance))\n",
        "  else:\n",
        "    print(\"\"\"Nível de significancia: %.2f\\nAceitamos a hipótese nula e aceitamos H0. Elas são independentes.\"\"\" % (significance))\n",
        "  print('-------------------------------------------------------------------------------------')\n",
        "  \n",
        "\n",
        "def test_qui_square(tabela, significance):\n",
        "  [xi, pvalor, degree, expected] = chi2_contingency(tabela)\n",
        "  print('-------------------------------------------------------------------------------------')\n",
        "  print(\"TESTE QUI QUADRADO\")\n",
        "  print('O p-valor é', pvalor)\n",
        "  print('Os graus de liberdade são', degree)\n",
        "  print('X²=%.6f' % (xi))\n",
        "  if pvalor <= significance:\n",
        "    print(\"\"\"Nível de significancia: %.2f\\nRejeitamos a hipótese nula e aceitamos H1. Elas não são independentes.\"\"\" % (significance))\n",
        "  else:\n",
        "    print(\"\"\"Nível de significancia: %.2f\\nAceitamos a hipótese nula e aceitamos H0. Elas são independentes.\"\"\" % (significance))\n",
        "  \n",
        "  print('-------------------------------------------------------------------------------------')\n",
        "  return tabela"
      ],
      "execution_count": 18,
      "outputs": []
    },
    {
      "cell_type": "code",
      "metadata": {
        "id": "Gbtj0OEkRR__"
      },
      "source": [
        "#@title { display-mode: \"form\" }\n",
        "q9 = [\"Não consegui cumpri-lo.\",\\\n",
        "          \"Consegui cumpri-lo parcialmente.\",\\\n",
        "          \"Consegui segui-lo com pouco ou nenhum atraso ao fim do evento.\",\\\n",
        "          \"Consegui cumpri-lo, até mesmo indo além do esperado para a entrega final.\"]\n",
        "q12 = [\"Afetou bastante meu rendimento no projeto e não consegui conciliar os dois.\",\\\n",
        "            \"Afetou meu rendimento no projeto, mas consegui conciliar os dois.\",\\\n",
        "            \"Afetou pouco meu rendimento no projeto.\",\\\n",
        "            \"Não afetou meu rendimento no projeto.\"]\n",
        "q13 = [\"Esteve pouco presente ou completamente ausente ao longo do evento.\", \\\n",
        "      \"Esteve menos presente do que deveria.\", \\\n",
        "      \"Esteve disponível de acordo com o tempo esperado.\", \\\n",
        "      \"Esteve sempre disponível, dedicando até mais tempo do que o esperado.\", \\\n",
        "      ]"
      ],
      "execution_count": 19,
      "outputs": []
    },
    {
      "cell_type": "markdown",
      "metadata": {
        "id": "U-rMCDfTVaZ3"
      },
      "source": [
        "### *O seu mentor(a) dividiu o tempo de mentoria com outros aprendizes (interno ou externo ao evento)?*\n",
        "\n",
        "\n",
        "\n"
      ]
    },
    {
      "cell_type": "code",
      "metadata": {
        "id": "NuLl2_TYWGE6",
        "colab": {
          "base_uri": "https://localhost:8080/",
          "height": 283
        },
        "outputId": "36d7fd72-ca20-4547-f325-c6423412eb56"
      },
      "source": [
        "ef_mentoria_compativel['Q14'].hist()"
      ],
      "execution_count": 20,
      "outputs": [
        {
          "output_type": "execute_result",
          "data": {
            "text/plain": [
              "<matplotlib.axes._subplots.AxesSubplot at 0x7f75be9ff450>"
            ]
          },
          "metadata": {
            "tags": []
          },
          "execution_count": 20
        },
        {
          "output_type": "display_data",
          "data": {
            "image/png": "[encoded data removed]",
            "text/plain": [
              "<Figure size 432x288 with 1 Axes>"
            ]
          },
          "metadata": {
            "tags": [],
            "needs_background": "light"
          }
        }
      ]
    },
    {
      "cell_type": "code",
      "metadata": {
        "id": "fXUlslfAdNXA",
        "colab": {
          "base_uri": "https://localhost:8080/",
          "height": 393
        },
        "outputId": "aaff134e-1322-4cc3-f4e6-bd53e33aaf4c"
      },
      "source": [
        "test_hipotheses(ef_mentoria_compativel, ['Q7','Q14'], 0.05)"
      ],
      "execution_count": 21,
      "outputs": [
        {
          "output_type": "stream",
          "text": [
            "-------------------------------------------------------------------------------------\n",
            "TESTE EXATO DE FISHER\n",
            "p-value: 0.05616092643224247\n",
            "Nível de significancia: 0.05\n",
            "Aceitamos a hipótese nula e aceitamos H0. Elas são independentes.\n",
            "-------------------------------------------------------------------------------------\n",
            "-------------------------------------------------------------------------------------\n",
            "TESTE QUI QUADRADO\n",
            "O p-valor é 0.07928205591587292\n",
            "Os graus de liberdade são 1\n",
            "X²=3.079558\n",
            "Nível de significancia: 0.05\n",
            "Aceitamos a hipótese nula e aceitamos H0. Elas são independentes.\n",
            "-------------------------------------------------------------------------------------\n"
          ],
          "name": "stdout"
        },
        {
          "output_type": "execute_result",
          "data": {
            "text/html": [
              "<div>\n",
              "<style scoped>\n",
              "    .dataframe tbody tr th:only-of-type {\n",
              "        vertical-align: middle;\n",
              "    }\n",
              "\n",
              "    .dataframe tbody tr th {\n",
              "        vertical-align: top;\n",
              "    }\n",
              "\n",
              "    .dataframe thead th {\n",
              "        text-align: right;\n",
              "    }\n",
              "</style>\n",
              "<table border=\"1\" class=\"dataframe\">\n",
              "  <thead>\n",
              "    <tr style=\"text-align: right;\">\n",
              "      <th>col_0</th>\n",
              "      <th>Não</th>\n",
              "      <th>Sim</th>\n",
              "    </tr>\n",
              "    <tr>\n",
              "      <th>row_0</th>\n",
              "      <th></th>\n",
              "      <th></th>\n",
              "    </tr>\n",
              "  </thead>\n",
              "  <tbody>\n",
              "    <tr>\n",
              "      <th>Não</th>\n",
              "      <td>7</td>\n",
              "      <td>14</td>\n",
              "    </tr>\n",
              "    <tr>\n",
              "      <th>Sim</th>\n",
              "      <td>12</td>\n",
              "      <td>6</td>\n",
              "    </tr>\n",
              "  </tbody>\n",
              "</table>\n",
              "</div>"
            ],
            "text/plain": [
              "col_0  Não  Sim\n",
              "row_0          \n",
              "Não      7   14\n",
              "Sim     12    6"
            ]
          },
          "metadata": {
            "tags": []
          },
          "execution_count": 21
        }
      ]
    },
    {
      "cell_type": "markdown",
      "metadata": {
        "id": "Uh58TfnEW3kX"
      },
      "source": [
        "### *Você participou de algum projeto de pesquisa ou desenvolvimento em paralelo no período do Andromedev?*\n"
      ]
    },
    {
      "cell_type": "code",
      "metadata": {
        "id": "GfhGe5C1XHZL",
        "colab": {
          "base_uri": "https://localhost:8080/",
          "height": 283
        },
        "outputId": "2a6d1c7a-f886-4f83-ee23-ed16b6724bbc"
      },
      "source": [
        "ef_mentoria_compativel['Q10'].hist()"
      ],
      "execution_count": 22,
      "outputs": [
        {
          "output_type": "execute_result",
          "data": {
            "text/plain": [
              "<matplotlib.axes._subplots.AxesSubplot at 0x7f75be827550>"
            ]
          },
          "metadata": {
            "tags": []
          },
          "execution_count": 22
        },
        {
          "output_type": "display_data",
          "data": {
            "image/png": "[encoded data removed]",
            "text/plain": [
              "<Figure size 432x288 with 1 Axes>"
            ]
          },
          "metadata": {
            "tags": [],
            "needs_background": "light"
          }
        }
      ]
    },
    {
      "cell_type": "code",
      "metadata": {
        "id": "_Ja8cAFAXMDg",
        "colab": {
          "base_uri": "https://localhost:8080/",
          "height": 393
        },
        "outputId": "db33eb5b-3b81-48d6-9b74-740e0d4949ed"
      },
      "source": [
        "test_hipotheses(ef_mentoria_compativel, ['Q7','Q10'], 0.05)"
      ],
      "execution_count": 23,
      "outputs": [
        {
          "output_type": "stream",
          "text": [
            "-------------------------------------------------------------------------------------\n",
            "TESTE EXATO DE FISHER\n",
            "p-value: 0.7023247023247022\n",
            "Nível de significancia: 0.05\n",
            "Aceitamos a hipótese nula e aceitamos H0. Elas são independentes.\n",
            "-------------------------------------------------------------------------------------\n",
            "-------------------------------------------------------------------------------------\n",
            "TESTE QUI QUADRADO\n",
            "O p-valor é 0.8784176112494346\n",
            "Os graus de liberdade são 1\n",
            "X²=0.023401\n",
            "Nível de significancia: 0.05\n",
            "Aceitamos a hipótese nula e aceitamos H0. Elas são independentes.\n",
            "-------------------------------------------------------------------------------------\n"
          ],
          "name": "stdout"
        },
        {
          "output_type": "execute_result",
          "data": {
            "text/html": [
              "<div>\n",
              "<style scoped>\n",
              "    .dataframe tbody tr th:only-of-type {\n",
              "        vertical-align: middle;\n",
              "    }\n",
              "\n",
              "    .dataframe tbody tr th {\n",
              "        vertical-align: top;\n",
              "    }\n",
              "\n",
              "    .dataframe thead th {\n",
              "        text-align: right;\n",
              "    }\n",
              "</style>\n",
              "<table border=\"1\" class=\"dataframe\">\n",
              "  <thead>\n",
              "    <tr style=\"text-align: right;\">\n",
              "      <th>col_0</th>\n",
              "      <th>Não</th>\n",
              "      <th>Sim</th>\n",
              "    </tr>\n",
              "    <tr>\n",
              "      <th>row_0</th>\n",
              "      <th></th>\n",
              "      <th></th>\n",
              "    </tr>\n",
              "  </thead>\n",
              "  <tbody>\n",
              "    <tr>\n",
              "      <th>Não</th>\n",
              "      <td>16</td>\n",
              "      <td>5</td>\n",
              "    </tr>\n",
              "    <tr>\n",
              "      <th>Sim</th>\n",
              "      <td>15</td>\n",
              "      <td>3</td>\n",
              "    </tr>\n",
              "  </tbody>\n",
              "</table>\n",
              "</div>"
            ],
            "text/plain": [
              "col_0  Não  Sim\n",
              "row_0          \n",
              "Não     16    5\n",
              "Sim     15    3"
            ]
          },
          "metadata": {
            "tags": []
          },
          "execution_count": 23
        }
      ]
    },
    {
      "cell_type": "markdown",
      "metadata": {
        "id": "r47avXO5YGLj"
      },
      "source": [
        "### *Quem realizou a maior parte do acompanhamento no projeto?*"
      ]
    },
    {
      "cell_type": "code",
      "metadata": {
        "id": "8Z52yqSlQIpN",
        "colab": {
          "base_uri": "https://localhost:8080/",
          "height": 283
        },
        "outputId": "78b11916-63be-4744-fad5-b9476bbc634c"
      },
      "source": [
        "ef_mentoria_compativel['Q5'].hist()"
      ],
      "execution_count": 24,
      "outputs": [
        {
          "output_type": "execute_result",
          "data": {
            "text/plain": [
              "<matplotlib.axes._subplots.AxesSubplot at 0x7f75becd5390>"
            ]
          },
          "metadata": {
            "tags": []
          },
          "execution_count": 24
        },
        {
          "output_type": "display_data",
          "data": {
            "image/png": "[encoded data removed]",
            "text/plain": [
              "<Figure size 432x288 with 1 Axes>"
            ]
          },
          "metadata": {
            "tags": [],
            "needs_background": "light"
          }
        }
      ]
    },
    {
      "cell_type": "code",
      "metadata": {
        "id": "jyay0QBoYelP",
        "colab": {
          "base_uri": "https://localhost:8080/",
          "height": 393
        },
        "outputId": "05c44b0c-0da4-4b63-a035-347f9967032b"
      },
      "source": [
        "test_hipotheses(ef_mentoria_compativel, ['Q7','Q5'])"
      ],
      "execution_count": 25,
      "outputs": [
        {
          "output_type": "stream",
          "text": [
            "-------------------------------------------------------------------------------------\n",
            "TESTE EXATO DE FISHER\n",
            "p-value: 0.022321917058759102\n",
            "Nível de significancia: 0.05\n",
            "Rejeitamos a hipótese nula e aceitamos H1. Elas não são independentes.\n",
            "-------------------------------------------------------------------------------------\n",
            "-------------------------------------------------------------------------------------\n",
            "TESTE QUI QUADRADO\n",
            "O p-valor é 0.03119074294812961\n",
            "Os graus de liberdade são 2\n",
            "X²=6.935268\n",
            "Nível de significancia: 0.05\n",
            "Rejeitamos a hipótese nula e aceitamos H1. Elas não são independentes.\n",
            "-------------------------------------------------------------------------------------\n"
          ],
          "name": "stdout"
        },
        {
          "output_type": "execute_result",
          "data": {
            "text/html": [
              "<div>\n",
              "<style scoped>\n",
              "    .dataframe tbody tr th:only-of-type {\n",
              "        vertical-align: middle;\n",
              "    }\n",
              "\n",
              "    .dataframe tbody tr th {\n",
              "        vertical-align: top;\n",
              "    }\n",
              "\n",
              "    .dataframe thead th {\n",
              "        text-align: right;\n",
              "    }\n",
              "</style>\n",
              "<table border=\"1\" class=\"dataframe\">\n",
              "  <thead>\n",
              "    <tr style=\"text-align: right;\">\n",
              "      <th>col_0</th>\n",
              "      <th>Mentor</th>\n",
              "      <th>Mentor Auxiliar</th>\n",
              "      <th>Mentor e o Mentor Auxiliar</th>\n",
              "    </tr>\n",
              "    <tr>\n",
              "      <th>row_0</th>\n",
              "      <th></th>\n",
              "      <th></th>\n",
              "      <th></th>\n",
              "    </tr>\n",
              "  </thead>\n",
              "  <tbody>\n",
              "    <tr>\n",
              "      <th>Não</th>\n",
              "      <td>15</td>\n",
              "      <td>6</td>\n",
              "      <td>0</td>\n",
              "    </tr>\n",
              "    <tr>\n",
              "      <th>Sim</th>\n",
              "      <td>17</td>\n",
              "      <td>0</td>\n",
              "      <td>1</td>\n",
              "    </tr>\n",
              "  </tbody>\n",
              "</table>\n",
              "</div>"
            ],
            "text/plain": [
              "col_0  Mentor  Mentor Auxiliar  Mentor e o Mentor Auxiliar\n",
              "row_0                                                     \n",
              "Não        15                6                           0\n",
              "Sim        17                0                           1"
            ]
          },
          "metadata": {
            "tags": []
          },
          "execution_count": 25
        }
      ]
    },
    {
      "cell_type": "markdown",
      "metadata": {
        "id": "Uv3KNJttaJuP"
      },
      "source": [
        "### *Em relação à dedicação esperada de minha mentora/ meu mentor...*"
      ]
    },
    {
      "cell_type": "code",
      "metadata": {
        "id": "-WN64k7maXje",
        "colab": {
          "base_uri": "https://localhost:8080/",
          "height": 286
        },
        "outputId": "83dbc9f1-d6cc-4dfd-c8bd-d3df1ff317f8"
      },
      "source": [
        "ef_mentoria_compativel['Q13'].hist()"
      ],
      "execution_count": 26,
      "outputs": [
        {
          "output_type": "execute_result",
          "data": {
            "text/plain": [
              "<matplotlib.axes._subplots.AxesSubplot at 0x7f75bf88fe10>"
            ]
          },
          "metadata": {
            "tags": []
          },
          "execution_count": 26
        },
        {
          "output_type": "display_data",
          "data": {
            "image/png": "[encoded data removed]",
            "text/plain": [
              "<Figure size 432x288 with 1 Axes>"
            ]
          },
          "metadata": {
            "tags": [],
            "needs_background": "light"
          }
        }
      ]
    },
    {
      "cell_type": "code",
      "metadata": {
        "id": "LkQVPC1NdNio",
        "colab": {
          "base_uri": "https://localhost:8080/",
          "height": 393
        },
        "outputId": "935d57b8-9023-42f1-f620-c2296e2596a9"
      },
      "source": [
        "test_hipotheses(ef_mentoria_compativel, ['Q7','Q13'])"
      ],
      "execution_count": 27,
      "outputs": [
        {
          "output_type": "stream",
          "text": [
            "-------------------------------------------------------------------------------------\n",
            "TESTE EXATO DE FISHER\n",
            "p-value: 0.7510026155187465\n",
            "Nível de significancia: 0.05\n",
            "Aceitamos a hipótese nula e aceitamos H0. Elas são independentes.\n",
            "-------------------------------------------------------------------------------------\n",
            "-------------------------------------------------------------------------------------\n",
            "TESTE QUI QUADRADO\n",
            "O p-valor é 0.7726442873297509\n",
            "Os graus de liberdade são 2\n",
            "X²=0.515873\n",
            "Nível de significancia: 0.05\n",
            "Aceitamos a hipótese nula e aceitamos H0. Elas são independentes.\n",
            "-------------------------------------------------------------------------------------\n"
          ],
          "name": "stdout"
        },
        {
          "output_type": "execute_result",
          "data": {
            "text/html": [
              "<div>\n",
              "<style scoped>\n",
              "    .dataframe tbody tr th:only-of-type {\n",
              "        vertical-align: middle;\n",
              "    }\n",
              "\n",
              "    .dataframe tbody tr th {\n",
              "        vertical-align: top;\n",
              "    }\n",
              "\n",
              "    .dataframe thead th {\n",
              "        text-align: right;\n",
              "    }\n",
              "</style>\n",
              "<table border=\"1\" class=\"dataframe\">\n",
              "  <thead>\n",
              "    <tr style=\"text-align: right;\">\n",
              "      <th>col_0</th>\n",
              "      <th>Esteve disponível de acordo com o tempo esperado.</th>\n",
              "      <th>Esteve menos presente do que deveria.</th>\n",
              "      <th>Esteve sempre disponível, dedicando até mais tempo do que o esperado.</th>\n",
              "    </tr>\n",
              "    <tr>\n",
              "      <th>row_0</th>\n",
              "      <th></th>\n",
              "      <th></th>\n",
              "      <th></th>\n",
              "    </tr>\n",
              "  </thead>\n",
              "  <tbody>\n",
              "    <tr>\n",
              "      <th>Não</th>\n",
              "      <td>6</td>\n",
              "      <td>1</td>\n",
              "      <td>14</td>\n",
              "    </tr>\n",
              "    <tr>\n",
              "      <th>Sim</th>\n",
              "      <td>7</td>\n",
              "      <td>1</td>\n",
              "      <td>10</td>\n",
              "    </tr>\n",
              "  </tbody>\n",
              "</table>\n",
              "</div>"
            ],
            "text/plain": [
              "col_0  Esteve disponível de acordo com o tempo esperado.  ...  Esteve sempre disponível, dedicando até mais tempo do que o esperado.\n",
              "row_0                                                     ...                                                                       \n",
              "Não                                                    6  ...                                                 14                    \n",
              "Sim                                                    7  ...                                                 10                    \n",
              "\n",
              "[2 rows x 3 columns]"
            ]
          },
          "metadata": {
            "tags": []
          },
          "execution_count": 27
        }
      ]
    },
    {
      "cell_type": "markdown",
      "metadata": {
        "id": "ibSU6pTQWPll"
      },
      "source": [
        "### *Qual foi o meio de comunicação predominante na execução do seu projeto?*\n"
      ]
    },
    {
      "cell_type": "code",
      "metadata": {
        "id": "p94c3XvCbzVg",
        "colab": {
          "base_uri": "https://localhost:8080/",
          "height": 283
        },
        "outputId": "12028857-c9fd-4028-ca95-2fcaf8a38469"
      },
      "source": [
        "ef_mentoria_compativel['Q6'].hist()"
      ],
      "execution_count": 28,
      "outputs": [
        {
          "output_type": "execute_result",
          "data": {
            "text/plain": [
              "<matplotlib.axes._subplots.AxesSubplot at 0x7f75be807f90>"
            ]
          },
          "metadata": {
            "tags": []
          },
          "execution_count": 28
        },
        {
          "output_type": "display_data",
          "data": {
            "image/png": "[encoded data removed]",
            "text/plain": [
              "<Figure size 432x288 with 1 Axes>"
            ]
          },
          "metadata": {
            "tags": [],
            "needs_background": "light"
          }
        }
      ]
    },
    {
      "cell_type": "code",
      "metadata": {
        "id": "y_7p7ZOvWVrl",
        "colab": {
          "base_uri": "https://localhost:8080/",
          "height": 418
        },
        "outputId": "556253bd-6d49-43bb-a1b9-ec0da810cca8"
      },
      "source": [
        "q6 = list(dict.fromkeys(ef_mentoria_compativel['Q6']) )\n",
        "comunicacao_perfil = ef_mentoria_compativel[['Q6', 'Q7', 'projeto']].groupby(by=['Q6', 'Q7'], axis=0).count()\n",
        "sns.heatmap(comunicacao_perfil.unstack(0)['projeto'],cmap=\"viridis\", annot=True, fmt='g')\n"
      ],
      "execution_count": 29,
      "outputs": [
        {
          "output_type": "execute_result",
          "data": {
            "text/plain": [
              "<matplotlib.axes._subplots.AxesSubplot at 0x7f75bf9a5950>"
            ]
          },
          "metadata": {
            "tags": []
          },
          "execution_count": 29
        },
        {
          "output_type": "display_data",
          "data": {
            "image/png": "[encoded data removed]",
            "text/plain": [
              "<Figure size 432x288 with 2 Axes>"
            ]
          },
          "metadata": {
            "tags": [],
            "needs_background": "light"
          }
        }
      ]
    },
    {
      "cell_type": "code",
      "metadata": {
        "id": "oCvLUPBhbcZn",
        "colab": {
          "base_uri": "https://localhost:8080/",
          "height": 393
        },
        "outputId": "7e784506-7fb4-4890-9d3a-8f0fe2075583"
      },
      "source": [
        "test_hipotheses(ef_mentoria_compativel, ['Q7','Q6'])"
      ],
      "execution_count": 30,
      "outputs": [
        {
          "output_type": "stream",
          "text": [
            "-------------------------------------------------------------------------------------\n",
            "TESTE EXATO DE FISHER\n",
            "p-value: 0.03983717532104668\n",
            "Nível de significancia: 0.05\n",
            "Rejeitamos a hipótese nula e aceitamos H1. Elas não são independentes.\n",
            "-------------------------------------------------------------------------------------\n",
            "-------------------------------------------------------------------------------------\n",
            "TESTE QUI QUADRADO\n",
            "O p-valor é 0.13556227296677\n",
            "Os graus de liberdade são 10\n",
            "X²=14.905045\n",
            "Nível de significancia: 0.05\n",
            "Aceitamos a hipótese nula e aceitamos H0. Elas são independentes.\n",
            "-------------------------------------------------------------------------------------\n"
          ],
          "name": "stdout"
        },
        {
          "output_type": "execute_result",
          "data": {
            "text/html": [
              "<div>\n",
              "<style scoped>\n",
              "    .dataframe tbody tr th:only-of-type {\n",
              "        vertical-align: middle;\n",
              "    }\n",
              "\n",
              "    .dataframe tbody tr th {\n",
              "        vertical-align: top;\n",
              "    }\n",
              "\n",
              "    .dataframe thead th {\n",
              "        text-align: right;\n",
              "    }\n",
              "</style>\n",
              "<table border=\"1\" class=\"dataframe\">\n",
              "  <thead>\n",
              "    <tr style=\"text-align: right;\">\n",
              "      <th>col_0</th>\n",
              "      <th>Discord</th>\n",
              "      <th>Discord + Whatsapp</th>\n",
              "      <th>Email</th>\n",
              "      <th>Emails, Google Meet e IRC</th>\n",
              "      <th>Google Meet</th>\n",
              "      <th>Google Meet e Discord</th>\n",
              "      <th>Slack</th>\n",
              "      <th>Telegram</th>\n",
              "      <th>Whatsapp</th>\n",
              "      <th>meet</th>\n",
              "      <th>meet e discord</th>\n",
              "    </tr>\n",
              "    <tr>\n",
              "      <th>row_0</th>\n",
              "      <th></th>\n",
              "      <th></th>\n",
              "      <th></th>\n",
              "      <th></th>\n",
              "      <th></th>\n",
              "      <th></th>\n",
              "      <th></th>\n",
              "      <th></th>\n",
              "      <th></th>\n",
              "      <th></th>\n",
              "      <th></th>\n",
              "    </tr>\n",
              "  </thead>\n",
              "  <tbody>\n",
              "    <tr>\n",
              "      <th>Não</th>\n",
              "      <td>11</td>\n",
              "      <td>0</td>\n",
              "      <td>0</td>\n",
              "      <td>0</td>\n",
              "      <td>0</td>\n",
              "      <td>1</td>\n",
              "      <td>3</td>\n",
              "      <td>5</td>\n",
              "      <td>0</td>\n",
              "      <td>0</td>\n",
              "      <td>1</td>\n",
              "    </tr>\n",
              "    <tr>\n",
              "      <th>Sim</th>\n",
              "      <td>10</td>\n",
              "      <td>1</td>\n",
              "      <td>2</td>\n",
              "      <td>1</td>\n",
              "      <td>1</td>\n",
              "      <td>0</td>\n",
              "      <td>1</td>\n",
              "      <td>0</td>\n",
              "      <td>1</td>\n",
              "      <td>1</td>\n",
              "      <td>0</td>\n",
              "    </tr>\n",
              "  </tbody>\n",
              "</table>\n",
              "</div>"
            ],
            "text/plain": [
              "col_0  Discord  Discord + Whatsapp  Email  ...  Whatsapp  meet  meet e discord\n",
              "row_0                                      ...                                \n",
              "Não         11                   0      0  ...         0     0               1\n",
              "Sim         10                   1      2  ...         1     1               0\n",
              "\n",
              "[2 rows x 11 columns]"
            ]
          },
          "metadata": {
            "tags": []
          },
          "execution_count": 30
        }
      ]
    },
    {
      "cell_type": "markdown",
      "metadata": {
        "id": "rsKnxk5WRcyI"
      },
      "source": [
        "\n",
        "*   Mudanças de escopo ajudaram a refinar os projetos\n",
        "*   Atrasos e faltas de entrega tem correlação"
      ]
    },
    {
      "cell_type": "markdown",
      "metadata": {
        "id": "N-pccdpsI0QH"
      },
      "source": [
        "## Quais características podem associar as respostas dos aprendizes com o desejo de continuar contribuindo?\n"
      ]
    },
    {
      "cell_type": "markdown",
      "metadata": {
        "id": "lrT-9fcKI0Qq"
      },
      "source": [
        "### *O seu mentor(a) dividiu o tempo de mentoria com outros aprendizes (interno ou externo ao evento)?*\n",
        "\n",
        "\n",
        "\n"
      ]
    },
    {
      "cell_type": "code",
      "metadata": {
        "id": "wWmveknHI0Qs",
        "colab": {
          "base_uri": "https://localhost:8080/",
          "height": 423
        },
        "outputId": "f32cb925-beaa-4bfc-e46e-d8bea75202ea"
      },
      "source": [
        "test_hipotheses(ef_mentoria_compativel, ['Q17','Q14'])"
      ],
      "execution_count": 31,
      "outputs": [
        {
          "output_type": "stream",
          "text": [
            "-------------------------------------------------------------------------------------\n",
            "TESTE EXATO DE FISHER\n",
            "p-value: 0.1050052674079387\n",
            "Nível de significancia: 0.05\n",
            "Aceitamos a hipótese nula e aceitamos H0. Elas são independentes.\n",
            "-------------------------------------------------------------------------------------\n",
            "-------------------------------------------------------------------------------------\n",
            "TESTE QUI QUADRADO\n",
            "O p-valor é 0.07568432475970441\n",
            "Os graus de liberdade são 2\n",
            "X²=5.162368\n",
            "Nível de significancia: 0.05\n",
            "Aceitamos a hipótese nula e aceitamos H0. Elas são independentes.\n",
            "-------------------------------------------------------------------------------------\n"
          ],
          "name": "stdout"
        },
        {
          "output_type": "execute_result",
          "data": {
            "text/html": [
              "<div>\n",
              "<style scoped>\n",
              "    .dataframe tbody tr th:only-of-type {\n",
              "        vertical-align: middle;\n",
              "    }\n",
              "\n",
              "    .dataframe tbody tr th {\n",
              "        vertical-align: top;\n",
              "    }\n",
              "\n",
              "    .dataframe thead th {\n",
              "        text-align: right;\n",
              "    }\n",
              "</style>\n",
              "<table border=\"1\" class=\"dataframe\">\n",
              "  <thead>\n",
              "    <tr style=\"text-align: right;\">\n",
              "      <th>col_0</th>\n",
              "      <th>Não</th>\n",
              "      <th>Sim</th>\n",
              "    </tr>\n",
              "    <tr>\n",
              "      <th>row_0</th>\n",
              "      <th></th>\n",
              "      <th></th>\n",
              "    </tr>\n",
              "  </thead>\n",
              "  <tbody>\n",
              "    <tr>\n",
              "      <th>3.0</th>\n",
              "      <td>2</td>\n",
              "      <td>6</td>\n",
              "    </tr>\n",
              "    <tr>\n",
              "      <th>4.0</th>\n",
              "      <td>1</td>\n",
              "      <td>4</td>\n",
              "    </tr>\n",
              "    <tr>\n",
              "      <th>5.0</th>\n",
              "      <td>16</td>\n",
              "      <td>10</td>\n",
              "    </tr>\n",
              "  </tbody>\n",
              "</table>\n",
              "</div>"
            ],
            "text/plain": [
              "col_0  Não  Sim\n",
              "row_0          \n",
              "3.0      2    6\n",
              "4.0      1    4\n",
              "5.0     16   10"
            ]
          },
          "metadata": {
            "tags": []
          },
          "execution_count": 31
        }
      ]
    },
    {
      "cell_type": "markdown",
      "metadata": {
        "id": "PEyU6exGI0Qt"
      },
      "source": [
        "### *Você participou de algum projeto de pesquisa ou desenvolvimento em paralelo no período do Andromedev?*\n"
      ]
    },
    {
      "cell_type": "code",
      "metadata": {
        "id": "Bz-xruqaI0Qu",
        "colab": {
          "base_uri": "https://localhost:8080/",
          "height": 423
        },
        "outputId": "a705f48a-fb17-4568-a3c0-1a112d25c1d2"
      },
      "source": [
        "test_hipotheses(ef_mentoria_compativel, ['Q17','Q10'])"
      ],
      "execution_count": 32,
      "outputs": [
        {
          "output_type": "stream",
          "text": [
            "-------------------------------------------------------------------------------------\n",
            "TESTE EXATO DE FISHER\n",
            "p-value: 0.5958497196887318\n",
            "Nível de significancia: 0.05\n",
            "Aceitamos a hipótese nula e aceitamos H0. Elas são independentes.\n",
            "-------------------------------------------------------------------------------------\n",
            "-------------------------------------------------------------------------------------\n",
            "TESTE QUI QUADRADO\n",
            "O p-valor é 0.32293883509906396\n",
            "Os graus de liberdade são 2\n",
            "X²=2.260585\n",
            "Nível de significancia: 0.05\n",
            "Aceitamos a hipótese nula e aceitamos H0. Elas são independentes.\n",
            "-------------------------------------------------------------------------------------\n"
          ],
          "name": "stdout"
        },
        {
          "output_type": "execute_result",
          "data": {
            "text/html": [
              "<div>\n",
              "<style scoped>\n",
              "    .dataframe tbody tr th:only-of-type {\n",
              "        vertical-align: middle;\n",
              "    }\n",
              "\n",
              "    .dataframe tbody tr th {\n",
              "        vertical-align: top;\n",
              "    }\n",
              "\n",
              "    .dataframe thead th {\n",
              "        text-align: right;\n",
              "    }\n",
              "</style>\n",
              "<table border=\"1\" class=\"dataframe\">\n",
              "  <thead>\n",
              "    <tr style=\"text-align: right;\">\n",
              "      <th>col_0</th>\n",
              "      <th>Não</th>\n",
              "      <th>Sim</th>\n",
              "    </tr>\n",
              "    <tr>\n",
              "      <th>row_0</th>\n",
              "      <th></th>\n",
              "      <th></th>\n",
              "    </tr>\n",
              "  </thead>\n",
              "  <tbody>\n",
              "    <tr>\n",
              "      <th>3.0</th>\n",
              "      <td>7</td>\n",
              "      <td>1</td>\n",
              "    </tr>\n",
              "    <tr>\n",
              "      <th>4.0</th>\n",
              "      <td>5</td>\n",
              "      <td>0</td>\n",
              "    </tr>\n",
              "    <tr>\n",
              "      <th>5.0</th>\n",
              "      <td>19</td>\n",
              "      <td>7</td>\n",
              "    </tr>\n",
              "  </tbody>\n",
              "</table>\n",
              "</div>"
            ],
            "text/plain": [
              "col_0  Não  Sim\n",
              "row_0          \n",
              "3.0      7    1\n",
              "4.0      5    0\n",
              "5.0     19    7"
            ]
          },
          "metadata": {
            "tags": []
          },
          "execution_count": 32
        }
      ]
    },
    {
      "cell_type": "markdown",
      "metadata": {
        "id": "_UGGwgNLI0Qu"
      },
      "source": [
        "### *Quem realizou a maior parte do acompanhamento no projeto?*"
      ]
    },
    {
      "cell_type": "code",
      "metadata": {
        "id": "jc7k5F13I0Qv",
        "colab": {
          "base_uri": "https://localhost:8080/",
          "height": 423
        },
        "outputId": "f345a544-8e92-4d07-dbea-055174196767"
      },
      "source": [
        "test_hipotheses(ef_mentoria_compativel, ['Q17','Q5'])"
      ],
      "execution_count": 33,
      "outputs": [
        {
          "output_type": "stream",
          "text": [
            "-------------------------------------------------------------------------------------\n",
            "TESTE EXATO DE FISHER\n",
            "p-value: 0.23135632113960133\n",
            "Nível de significancia: 0.05\n",
            "Aceitamos a hipótese nula e aceitamos H0. Elas são independentes.\n",
            "-------------------------------------------------------------------------------------\n",
            "-------------------------------------------------------------------------------------\n",
            "TESTE QUI QUADRADO\n",
            "O p-valor é 0.3515334003971871\n",
            "Os graus de liberdade são 4\n",
            "X²=4.425000\n",
            "Nível de significancia: 0.05\n",
            "Aceitamos a hipótese nula e aceitamos H0. Elas são independentes.\n",
            "-------------------------------------------------------------------------------------\n"
          ],
          "name": "stdout"
        },
        {
          "output_type": "execute_result",
          "data": {
            "text/html": [
              "<div>\n",
              "<style scoped>\n",
              "    .dataframe tbody tr th:only-of-type {\n",
              "        vertical-align: middle;\n",
              "    }\n",
              "\n",
              "    .dataframe tbody tr th {\n",
              "        vertical-align: top;\n",
              "    }\n",
              "\n",
              "    .dataframe thead th {\n",
              "        text-align: right;\n",
              "    }\n",
              "</style>\n",
              "<table border=\"1\" class=\"dataframe\">\n",
              "  <thead>\n",
              "    <tr style=\"text-align: right;\">\n",
              "      <th>col_0</th>\n",
              "      <th>Mentor</th>\n",
              "      <th>Mentor Auxiliar</th>\n",
              "      <th>Mentor e o Mentor Auxiliar</th>\n",
              "    </tr>\n",
              "    <tr>\n",
              "      <th>row_0</th>\n",
              "      <th></th>\n",
              "      <th></th>\n",
              "      <th></th>\n",
              "    </tr>\n",
              "  </thead>\n",
              "  <tbody>\n",
              "    <tr>\n",
              "      <th>3.0</th>\n",
              "      <td>6</td>\n",
              "      <td>2</td>\n",
              "      <td>0</td>\n",
              "    </tr>\n",
              "    <tr>\n",
              "      <th>4.0</th>\n",
              "      <td>3</td>\n",
              "      <td>2</td>\n",
              "      <td>0</td>\n",
              "    </tr>\n",
              "    <tr>\n",
              "      <th>5.0</th>\n",
              "      <td>23</td>\n",
              "      <td>2</td>\n",
              "      <td>1</td>\n",
              "    </tr>\n",
              "  </tbody>\n",
              "</table>\n",
              "</div>"
            ],
            "text/plain": [
              "col_0  Mentor  Mentor Auxiliar  Mentor e o Mentor Auxiliar\n",
              "row_0                                                     \n",
              "3.0         6                2                           0\n",
              "4.0         3                2                           0\n",
              "5.0        23                2                           1"
            ]
          },
          "metadata": {
            "tags": []
          },
          "execution_count": 33
        }
      ]
    },
    {
      "cell_type": "markdown",
      "metadata": {
        "id": "gGbom4dsI0Qw"
      },
      "source": [
        "### *Em relação à dedicação esperada de minha mentora/ meu mentor...*"
      ]
    },
    {
      "cell_type": "code",
      "metadata": {
        "id": "NDUTLMpPI0Qx",
        "colab": {
          "base_uri": "https://localhost:8080/",
          "height": 423
        },
        "outputId": "413b925e-8ea9-4621-d6e0-7de7aff00439"
      },
      "source": [
        "test_hipotheses(ef_mentoria_compativel, ['Q17','Q13'])"
      ],
      "execution_count": 34,
      "outputs": [
        {
          "output_type": "stream",
          "text": [
            "-------------------------------------------------------------------------------------\n",
            "TESTE EXATO DE FISHER\n",
            "p-value: 0.6449764886263052\n",
            "Nível de significancia: 0.05\n",
            "Aceitamos a hipótese nula e aceitamos H0. Elas são independentes.\n",
            "-------------------------------------------------------------------------------------\n",
            "-------------------------------------------------------------------------------------\n",
            "TESTE QUI QUADRADO\n",
            "O p-valor é 0.5751878832272033\n",
            "Os graus de liberdade são 4\n",
            "X²=2.897115\n",
            "Nível de significancia: 0.05\n",
            "Aceitamos a hipótese nula e aceitamos H0. Elas são independentes.\n",
            "-------------------------------------------------------------------------------------\n"
          ],
          "name": "stdout"
        },
        {
          "output_type": "execute_result",
          "data": {
            "text/html": [
              "<div>\n",
              "<style scoped>\n",
              "    .dataframe tbody tr th:only-of-type {\n",
              "        vertical-align: middle;\n",
              "    }\n",
              "\n",
              "    .dataframe tbody tr th {\n",
              "        vertical-align: top;\n",
              "    }\n",
              "\n",
              "    .dataframe thead th {\n",
              "        text-align: right;\n",
              "    }\n",
              "</style>\n",
              "<table border=\"1\" class=\"dataframe\">\n",
              "  <thead>\n",
              "    <tr style=\"text-align: right;\">\n",
              "      <th>col_0</th>\n",
              "      <th>Esteve disponível de acordo com o tempo esperado.</th>\n",
              "      <th>Esteve menos presente do que deveria.</th>\n",
              "      <th>Esteve sempre disponível, dedicando até mais tempo do que o esperado.</th>\n",
              "    </tr>\n",
              "    <tr>\n",
              "      <th>row_0</th>\n",
              "      <th></th>\n",
              "      <th></th>\n",
              "      <th></th>\n",
              "    </tr>\n",
              "  </thead>\n",
              "  <tbody>\n",
              "    <tr>\n",
              "      <th>3.0</th>\n",
              "      <td>2</td>\n",
              "      <td>0</td>\n",
              "      <td>6</td>\n",
              "    </tr>\n",
              "    <tr>\n",
              "      <th>4.0</th>\n",
              "      <td>3</td>\n",
              "      <td>0</td>\n",
              "      <td>2</td>\n",
              "    </tr>\n",
              "    <tr>\n",
              "      <th>5.0</th>\n",
              "      <td>8</td>\n",
              "      <td>2</td>\n",
              "      <td>16</td>\n",
              "    </tr>\n",
              "  </tbody>\n",
              "</table>\n",
              "</div>"
            ],
            "text/plain": [
              "col_0  Esteve disponível de acordo com o tempo esperado.  ...  Esteve sempre disponível, dedicando até mais tempo do que o esperado.\n",
              "row_0                                                     ...                                                                       \n",
              "3.0                                                    2  ...                                                  6                    \n",
              "4.0                                                    3  ...                                                  2                    \n",
              "5.0                                                    8  ...                                                 16                    \n",
              "\n",
              "[3 rows x 3 columns]"
            ]
          },
          "metadata": {
            "tags": []
          },
          "execution_count": 34
        }
      ]
    },
    {
      "cell_type": "markdown",
      "metadata": {
        "id": "QJFGS9vcI0Qx"
      },
      "source": [
        "### *Qual foi o meio de comunicação predominante na execução do seu projeto?*\n"
      ]
    },
    {
      "cell_type": "code",
      "metadata": {
        "id": "OGhHrGG1I0Qz",
        "colab": {
          "base_uri": "https://localhost:8080/",
          "height": 423
        },
        "outputId": "6ab5e498-0ab1-4640-a837-6caaf5c60aa8"
      },
      "source": [
        "test_hipotheses(ef_mentoria_compativel, ['Q17','Q6'])"
      ],
      "execution_count": 35,
      "outputs": [
        {
          "output_type": "stream",
          "text": [
            "-------------------------------------------------------------------------------------\n",
            "TESTE EXATO DE FISHER\n",
            "p-value: 0.013237182444798956\n",
            "Nível de significancia: 0.05\n",
            "Rejeitamos a hipótese nula e aceitamos H1. Elas não são independentes.\n",
            "-------------------------------------------------------------------------------------\n",
            "-------------------------------------------------------------------------------------\n",
            "TESTE QUI QUADRADO\n",
            "O p-valor é 0.040859540398553704\n",
            "Os graus de liberdade são 20\n",
            "X²=32.234821\n",
            "Nível de significancia: 0.05\n",
            "Rejeitamos a hipótese nula e aceitamos H1. Elas não são independentes.\n",
            "-------------------------------------------------------------------------------------\n"
          ],
          "name": "stdout"
        },
        {
          "output_type": "execute_result",
          "data": {
            "text/html": [
              "<div>\n",
              "<style scoped>\n",
              "    .dataframe tbody tr th:only-of-type {\n",
              "        vertical-align: middle;\n",
              "    }\n",
              "\n",
              "    .dataframe tbody tr th {\n",
              "        vertical-align: top;\n",
              "    }\n",
              "\n",
              "    .dataframe thead th {\n",
              "        text-align: right;\n",
              "    }\n",
              "</style>\n",
              "<table border=\"1\" class=\"dataframe\">\n",
              "  <thead>\n",
              "    <tr style=\"text-align: right;\">\n",
              "      <th>col_0</th>\n",
              "      <th>Discord</th>\n",
              "      <th>Discord + Whatsapp</th>\n",
              "      <th>Email</th>\n",
              "      <th>Emails, Google Meet e IRC</th>\n",
              "      <th>Google Meet</th>\n",
              "      <th>Google Meet e Discord</th>\n",
              "      <th>Slack</th>\n",
              "      <th>Telegram</th>\n",
              "      <th>Whatsapp</th>\n",
              "      <th>meet</th>\n",
              "      <th>meet e discord</th>\n",
              "    </tr>\n",
              "    <tr>\n",
              "      <th>row_0</th>\n",
              "      <th></th>\n",
              "      <th></th>\n",
              "      <th></th>\n",
              "      <th></th>\n",
              "      <th></th>\n",
              "      <th></th>\n",
              "      <th></th>\n",
              "      <th></th>\n",
              "      <th></th>\n",
              "      <th></th>\n",
              "      <th></th>\n",
              "    </tr>\n",
              "  </thead>\n",
              "  <tbody>\n",
              "    <tr>\n",
              "      <th>3.0</th>\n",
              "      <td>3</td>\n",
              "      <td>0</td>\n",
              "      <td>1</td>\n",
              "      <td>0</td>\n",
              "      <td>1</td>\n",
              "      <td>1</td>\n",
              "      <td>1</td>\n",
              "      <td>1</td>\n",
              "      <td>0</td>\n",
              "      <td>0</td>\n",
              "      <td>0</td>\n",
              "    </tr>\n",
              "    <tr>\n",
              "      <th>4.0</th>\n",
              "      <td>1</td>\n",
              "      <td>0</td>\n",
              "      <td>1</td>\n",
              "      <td>0</td>\n",
              "      <td>0</td>\n",
              "      <td>0</td>\n",
              "      <td>3</td>\n",
              "      <td>0</td>\n",
              "      <td>0</td>\n",
              "      <td>0</td>\n",
              "      <td>0</td>\n",
              "    </tr>\n",
              "    <tr>\n",
              "      <th>5.0</th>\n",
              "      <td>17</td>\n",
              "      <td>1</td>\n",
              "      <td>0</td>\n",
              "      <td>1</td>\n",
              "      <td>0</td>\n",
              "      <td>0</td>\n",
              "      <td>0</td>\n",
              "      <td>4</td>\n",
              "      <td>1</td>\n",
              "      <td>1</td>\n",
              "      <td>1</td>\n",
              "    </tr>\n",
              "  </tbody>\n",
              "</table>\n",
              "</div>"
            ],
            "text/plain": [
              "col_0  Discord  Discord + Whatsapp  Email  ...  Whatsapp  meet  meet e discord\n",
              "row_0                                      ...                                \n",
              "3.0          3                   0      1  ...         0     0               0\n",
              "4.0          1                   0      1  ...         0     0               0\n",
              "5.0         17                   1      0  ...         1     1               1\n",
              "\n",
              "[3 rows x 11 columns]"
            ]
          },
          "metadata": {
            "tags": []
          },
          "execution_count": 35
        }
      ]
    },
    {
      "cell_type": "markdown",
      "metadata": {
        "id": "LutZ6SVzI0Qz"
      },
      "source": [
        "\n",
        "*   Mudanças de escopo ajudaram a refinar os projetos\n",
        "*   Atrasos e faltas de entrega tem correlação"
      ]
    },
    {
      "cell_type": "markdown",
      "metadata": {
        "id": "5vzKrF1cWseJ"
      },
      "source": [
        "## Referências\n",
        "\n",
        "\n",
        "https://www.python-ds.com/python-chi-square-test"
      ]
    }
  ]
}